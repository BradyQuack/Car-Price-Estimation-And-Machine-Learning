{
 "cells": [
  {
   "cell_type": "markdown",
   "metadata": {},
   "source": [
    "# Car Price Estimation and Machine Learning\n",
    "## Project Overview\n",
    "Rusty Bargain, a leading used car sales service, is developing an innovative app that allows users to quickly determine the market value of their cars. Leveraging a rich historical dataset containing technical specifications, trim versions, and pricing information, this project aims to build and compare multiple predictive models to estimate car values accurately.\n",
    "## Project Setup\n",
    "### Data Preprocessing\n",
    "- Handle missing values and outliers\n",
    "- Format and convert date features \n",
    "- Encode categorical features appropriately\n",
    "- Use LightGBM and CatBoost’s native handling or apply One-Hot Encoding for models like XGBoost.\n",
    "### Exploratory Data Analysis (EDA)\n",
    "- Visualize distributions and relationships between features\n",
    "- Analyze feature correlations with the target variable\n",
    "### Feature Engineering\n",
    "- Extract relevant features from dates\n",
    "- Create any new features or transformations to improve model performance\n",
    "### Train-Test Split\n",
    "- Split the dataset into training and testing sets.\n",
    "### Model Implementation and Evaluation\n",
    "- Baseline Model\n",
    "- Tree-Based Models\n",
    "- Gradient Boosting Models\n",
    "- Train and tune models using LightGBM\n",
    "- Evaluate models using the RMSE metric for prediction quality\n",
    "### Performance and Efficiency Analysis\n",
    "- Assess the speed of predictions for each model\n",
    "- Evaluate the training time for each model to ensure feasibility\n",
    "### Model Tuning and Finalization\n",
    "- Adjust hyperparameters based on initial results\n",
    "- Optimize the trade-off between prediction quality, prediction speed, and training time\n",
    "### Deployment Considerations\n",
    "- Prepare the selected model for integration into the Rusty Bargain app\n",
    "- Ensure the model is lightweight enough for fast mobile predictions\n",
    "## Findings:\n",
    "Based on the comprehensive analysis of the car valuation models, it is evident that sophisticated ensemble methods and gradient boosting techniques markedly outperform basic linear regression in both predictive accuracy and overall utility. With hyperparameter tuning using GridSearchCV, the CatBoostRegressor achieved its best performance with a configuration of depth 8, 500 iterations, an l2_leaf_reg of 3, and a learning rate of 0.1. This tuned model reached an R-squared of approximately 0.877 and an RMSE of around 1655, while delivering predictions in just 0.03 seconds. These results highlight the value of investing in advanced machine learning techniques and systematic hyperparameter tuning to optimize model performance. Given its high accuracy, efficiency, and rapid prediction times, integrating a tuned CatBoostRegressor into Rusty Bargain’s car valuation app could provide fast, reliable, and data-driven pricing insights, thereby enhancing customer engagement and reducing operational costs."
   ]
  },
  {
   "cell_type": "markdown",
   "metadata": {},
   "source": [
    "## Imports"
   ]
  },
  {
   "cell_type": "code",
   "execution_count": 1,
   "metadata": {},
   "outputs": [],
   "source": [
    "import pandas as pd\n",
    "import numpy as np\n",
    "import seaborn as sns\n",
    "import matplotlib.pyplot as plt\n",
    "from sklearn.preprocessing import LabelEncoder\n",
    "from sklearn.preprocessing import OneHotEncoder\n",
    "from sklearn.model_selection import train_test_split\n",
    "from sklearn.preprocessing import StandardScaler\n",
    "from sklearn.linear_model import LinearRegression\n",
    "from sklearn.ensemble import RandomForestRegressor\n",
    "from sklearn.ensemble import GradientBoostingRegressor\n",
    "from sklearn.metrics import mean_squared_error\n",
    "from sklearn.metrics import r2_score\n",
    "from catboost import CatBoostRegressor\n",
    "import lightgbm as lgb\n",
    "import time\n",
    "from sklearn.preprocessing import OrdinalEncoder"
   ]
  },
  {
   "cell_type": "markdown",
   "metadata": {},
   "source": [
    "## Data preparation"
   ]
  },
  {
   "cell_type": "code",
   "execution_count": 2,
   "metadata": {},
   "outputs": [
    {
     "name": "stdout",
     "output_type": "stream",
     "text": [
      "<class 'pandas.core.frame.DataFrame'>\n",
      "RangeIndex: 354369 entries, 0 to 354368\n",
      "Data columns (total 16 columns):\n",
      " #   Column             Non-Null Count   Dtype \n",
      "---  ------             --------------   ----- \n",
      " 0   DateCrawled        354369 non-null  object\n",
      " 1   Price              354369 non-null  int64 \n",
      " 2   VehicleType        316879 non-null  object\n",
      " 3   RegistrationYear   354369 non-null  int64 \n",
      " 4   Gearbox            334536 non-null  object\n",
      " 5   Power              354369 non-null  int64 \n",
      " 6   Model              334664 non-null  object\n",
      " 7   Mileage            354369 non-null  int64 \n",
      " 8   RegistrationMonth  354369 non-null  int64 \n",
      " 9   FuelType           321474 non-null  object\n",
      " 10  Brand              354369 non-null  object\n",
      " 11  NotRepaired        283215 non-null  object\n",
      " 12  DateCreated        354369 non-null  object\n",
      " 13  NumberOfPictures   354369 non-null  int64 \n",
      " 14  PostalCode         354369 non-null  int64 \n",
      " 15  LastSeen           354369 non-null  object\n",
      "dtypes: int64(7), object(9)\n",
      "memory usage: 43.3+ MB\n"
     ]
    }
   ],
   "source": [
    "df = pd.read_csv('/datasets/car_data.csv')\n",
    "df.info()"
   ]
  },
  {
   "cell_type": "code",
   "execution_count": 3,
   "metadata": {},
   "outputs": [
    {
     "data": {
      "text/plain": [
       "DateCrawled              0\n",
       "Price                    0\n",
       "VehicleType          37490\n",
       "RegistrationYear         0\n",
       "Gearbox              19833\n",
       "Power                    0\n",
       "Model                19705\n",
       "Mileage                  0\n",
       "RegistrationMonth        0\n",
       "FuelType             32895\n",
       "Brand                    0\n",
       "NotRepaired          71154\n",
       "DateCreated              0\n",
       "NumberOfPictures         0\n",
       "PostalCode               0\n",
       "LastSeen                 0\n",
       "dtype: int64"
      ]
     },
     "execution_count": 3,
     "metadata": {},
     "output_type": "execute_result"
    }
   ],
   "source": [
    "df.isna().sum()"
   ]
  },
  {
   "cell_type": "code",
   "execution_count": 4,
   "metadata": {},
   "outputs": [
    {
     "data": {
      "text/plain": [
       "262"
      ]
     },
     "execution_count": 4,
     "metadata": {},
     "output_type": "execute_result"
    }
   ],
   "source": [
    "df.duplicated().sum()"
   ]
  },
  {
   "cell_type": "code",
   "execution_count": 5,
   "metadata": {},
   "outputs": [
    {
     "name": "stdout",
     "output_type": "stream",
     "text": [
      "<class 'pandas.core.frame.DataFrame'>\n",
      "Int64Index: 245567 entries, 3 to 354367\n",
      "Data columns (total 16 columns):\n",
      " #   Column             Non-Null Count   Dtype \n",
      "---  ------             --------------   ----- \n",
      " 0   DateCrawled        245567 non-null  object\n",
      " 1   Price              245567 non-null  int64 \n",
      " 2   VehicleType        245567 non-null  object\n",
      " 3   RegistrationYear   245567 non-null  int64 \n",
      " 4   Gearbox            245567 non-null  object\n",
      " 5   Power              245567 non-null  int64 \n",
      " 6   Model              245567 non-null  object\n",
      " 7   Mileage            245567 non-null  int64 \n",
      " 8   RegistrationMonth  245567 non-null  int64 \n",
      " 9   FuelType           245567 non-null  object\n",
      " 10  Brand              245567 non-null  object\n",
      " 11  NotRepaired        245567 non-null  object\n",
      " 12  DateCreated        245567 non-null  object\n",
      " 13  NumberOfPictures   245567 non-null  int64 \n",
      " 14  PostalCode         245567 non-null  int64 \n",
      " 15  LastSeen           245567 non-null  object\n",
      "dtypes: int64(7), object(9)\n",
      "memory usage: 31.8+ MB\n"
     ]
    }
   ],
   "source": [
    "df.dropna(inplace=True)\n",
    "df.drop_duplicates(inplace=True)\n",
    "df.info()"
   ]
  },
  {
   "cell_type": "markdown",
   "metadata": {},
   "source": [
    "### Summary:\n",
    "The data preparation process began with an initial inspection of the dataset, revealing 354,369 entries across 16 columns with several missing values in columns such as VehicleType, Gearbox, Model, FuelType, and NotRepaired. A duplicate check identified 262 repeated records. To ensure data quality, all rows containing missing values were removed, and duplicate entries were eliminated. These cleaning steps resulted in a refined dataset of 245,567 unique entries,"
   ]
  },
  {
   "cell_type": "code",
   "execution_count": 6,
   "metadata": {},
   "outputs": [
    {
     "data": {
      "text/html": [
       "<div>\n",
       "<style scoped>\n",
       "    .dataframe tbody tr th:only-of-type {\n",
       "        vertical-align: middle;\n",
       "    }\n",
       "\n",
       "    .dataframe tbody tr th {\n",
       "        vertical-align: top;\n",
       "    }\n",
       "\n",
       "    .dataframe thead th {\n",
       "        text-align: right;\n",
       "    }\n",
       "</style>\n",
       "<table border=\"1\" class=\"dataframe\">\n",
       "  <thead>\n",
       "    <tr style=\"text-align: right;\">\n",
       "      <th></th>\n",
       "      <th>VehicleType</th>\n",
       "      <th>RegistrationYear</th>\n",
       "      <th>Gearbox</th>\n",
       "      <th>Power</th>\n",
       "      <th>Model</th>\n",
       "      <th>Mileage</th>\n",
       "      <th>FuelType</th>\n",
       "      <th>Brand</th>\n",
       "      <th>NotRepaired</th>\n",
       "    </tr>\n",
       "  </thead>\n",
       "  <tbody>\n",
       "    <tr>\n",
       "      <th>3</th>\n",
       "      <td>small</td>\n",
       "      <td>2001</td>\n",
       "      <td>manual</td>\n",
       "      <td>75</td>\n",
       "      <td>golf</td>\n",
       "      <td>150000</td>\n",
       "      <td>petrol</td>\n",
       "      <td>volkswagen</td>\n",
       "      <td>no</td>\n",
       "    </tr>\n",
       "    <tr>\n",
       "      <th>4</th>\n",
       "      <td>small</td>\n",
       "      <td>2008</td>\n",
       "      <td>manual</td>\n",
       "      <td>69</td>\n",
       "      <td>fabia</td>\n",
       "      <td>90000</td>\n",
       "      <td>gasoline</td>\n",
       "      <td>skoda</td>\n",
       "      <td>no</td>\n",
       "    </tr>\n",
       "    <tr>\n",
       "      <th>5</th>\n",
       "      <td>sedan</td>\n",
       "      <td>1995</td>\n",
       "      <td>manual</td>\n",
       "      <td>102</td>\n",
       "      <td>3er</td>\n",
       "      <td>150000</td>\n",
       "      <td>petrol</td>\n",
       "      <td>bmw</td>\n",
       "      <td>yes</td>\n",
       "    </tr>\n",
       "    <tr>\n",
       "      <th>6</th>\n",
       "      <td>convertible</td>\n",
       "      <td>2004</td>\n",
       "      <td>manual</td>\n",
       "      <td>109</td>\n",
       "      <td>2_reihe</td>\n",
       "      <td>150000</td>\n",
       "      <td>petrol</td>\n",
       "      <td>peugeot</td>\n",
       "      <td>no</td>\n",
       "    </tr>\n",
       "    <tr>\n",
       "      <th>7</th>\n",
       "      <td>sedan</td>\n",
       "      <td>1980</td>\n",
       "      <td>manual</td>\n",
       "      <td>50</td>\n",
       "      <td>other</td>\n",
       "      <td>40000</td>\n",
       "      <td>petrol</td>\n",
       "      <td>volkswagen</td>\n",
       "      <td>no</td>\n",
       "    </tr>\n",
       "    <tr>\n",
       "      <th>...</th>\n",
       "      <td>...</td>\n",
       "      <td>...</td>\n",
       "      <td>...</td>\n",
       "      <td>...</td>\n",
       "      <td>...</td>\n",
       "      <td>...</td>\n",
       "      <td>...</td>\n",
       "      <td>...</td>\n",
       "      <td>...</td>\n",
       "    </tr>\n",
       "    <tr>\n",
       "      <th>354360</th>\n",
       "      <td>wagon</td>\n",
       "      <td>2005</td>\n",
       "      <td>manual</td>\n",
       "      <td>3</td>\n",
       "      <td>3er</td>\n",
       "      <td>150000</td>\n",
       "      <td>gasoline</td>\n",
       "      <td>bmw</td>\n",
       "      <td>no</td>\n",
       "    </tr>\n",
       "    <tr>\n",
       "      <th>354362</th>\n",
       "      <td>sedan</td>\n",
       "      <td>2004</td>\n",
       "      <td>manual</td>\n",
       "      <td>225</td>\n",
       "      <td>leon</td>\n",
       "      <td>150000</td>\n",
       "      <td>petrol</td>\n",
       "      <td>seat</td>\n",
       "      <td>yes</td>\n",
       "    </tr>\n",
       "    <tr>\n",
       "      <th>354363</th>\n",
       "      <td>bus</td>\n",
       "      <td>2000</td>\n",
       "      <td>manual</td>\n",
       "      <td>0</td>\n",
       "      <td>zafira</td>\n",
       "      <td>150000</td>\n",
       "      <td>petrol</td>\n",
       "      <td>opel</td>\n",
       "      <td>no</td>\n",
       "    </tr>\n",
       "    <tr>\n",
       "      <th>354366</th>\n",
       "      <td>convertible</td>\n",
       "      <td>2000</td>\n",
       "      <td>auto</td>\n",
       "      <td>101</td>\n",
       "      <td>fortwo</td>\n",
       "      <td>125000</td>\n",
       "      <td>petrol</td>\n",
       "      <td>smart</td>\n",
       "      <td>no</td>\n",
       "    </tr>\n",
       "    <tr>\n",
       "      <th>354367</th>\n",
       "      <td>bus</td>\n",
       "      <td>1996</td>\n",
       "      <td>manual</td>\n",
       "      <td>102</td>\n",
       "      <td>transporter</td>\n",
       "      <td>150000</td>\n",
       "      <td>gasoline</td>\n",
       "      <td>volkswagen</td>\n",
       "      <td>no</td>\n",
       "    </tr>\n",
       "  </tbody>\n",
       "</table>\n",
       "<p>245567 rows × 9 columns</p>\n",
       "</div>"
      ],
      "text/plain": [
       "        VehicleType  RegistrationYear Gearbox  Power        Model  Mileage  \\\n",
       "3             small              2001  manual     75         golf   150000   \n",
       "4             small              2008  manual     69        fabia    90000   \n",
       "5             sedan              1995  manual    102          3er   150000   \n",
       "6       convertible              2004  manual    109      2_reihe   150000   \n",
       "7             sedan              1980  manual     50        other    40000   \n",
       "...             ...               ...     ...    ...          ...      ...   \n",
       "354360        wagon              2005  manual      3          3er   150000   \n",
       "354362        sedan              2004  manual    225         leon   150000   \n",
       "354363          bus              2000  manual      0       zafira   150000   \n",
       "354366  convertible              2000    auto    101       fortwo   125000   \n",
       "354367          bus              1996  manual    102  transporter   150000   \n",
       "\n",
       "        FuelType       Brand NotRepaired  \n",
       "3         petrol  volkswagen          no  \n",
       "4       gasoline       skoda          no  \n",
       "5         petrol         bmw         yes  \n",
       "6         petrol     peugeot          no  \n",
       "7         petrol  volkswagen          no  \n",
       "...          ...         ...         ...  \n",
       "354360  gasoline         bmw          no  \n",
       "354362    petrol        seat         yes  \n",
       "354363    petrol        opel          no  \n",
       "354366    petrol       smart          no  \n",
       "354367  gasoline  volkswagen          no  \n",
       "\n",
       "[245567 rows x 9 columns]"
      ]
     },
     "execution_count": 6,
     "metadata": {},
     "output_type": "execute_result"
    }
   ],
   "source": [
    "# Targe\n",
    "target = df['Price']\n",
    "\n",
    "# Drop Unwanted Features\n",
    "features = df.drop(['DateCrawled','Price','RegistrationMonth','DateCreated','NumberOfPictures','PostalCode','LastSeen'], axis=1)\n",
    "features"
   ]
  },
  {
   "cell_type": "markdown",
   "metadata": {},
   "source": [
    "### Summary:\n",
    "The data preparation continues by defining the target and feature sets for modeling. The target variable is set as the 'Price' column, while the features are selected by removing columns that are irrelevant for the prediction task. Specifically, columns such as DateCrawled, Price, RegistrationMonth, DateCreated, NumberOfPictures, PostalCode, and LastSeen are dropped, leaving a dataset with nine key features: VehicleType, RegistrationYear, Gearbox, Power, Model, Mileage, FuelType, Brand, and NotRepaired. "
   ]
  },
  {
   "cell_type": "code",
   "execution_count": 7,
   "metadata": {
    "scrolled": false
   },
   "outputs": [
    {
     "data": {
      "image/png": "[encoded data removed]",
      "text/plain": [
       "<Figure size 2000x1000 with 1 Axes>"
      ]
     },
     "metadata": {},
     "output_type": "display_data"
    }
   ],
   "source": [
    "# Plot Registration Year\n",
    "registration_year_counts = df['RegistrationYear'].value_counts().sort_index()\n",
    "plt.figure(figsize=(20, 10))\n",
    "registration_year_counts.plot(kind='bar')\n",
    "plt.xlabel('Registration Year')\n",
    "plt.ylabel('Count')\n",
    "plt.title('Registration Year Distribution')\n",
    "plt.show()"
   ]
  },
  {
   "cell_type": "markdown",
   "metadata": {},
   "source": [
    "### Summary:\n",
    "The bar chart of Registration Year Distribution shows that most vehicles in the dataset were registered in relatively recent years, with a noticeable peak in the 2000s and early 2010s. Counts are relatively low for very early registration years, then gradually increase and reach their highest levels around the mid to late 2000s, before tapering off again for more recent years. This pattern suggests that the majority of the cars in the dataset are less than two decades old, while outliers from exceptionally early or unrealistically future years are minimal in comparison. Overall, the distribution is heavily concentrated in a span of roughly two decades, reflecting common market trends where newer models dominate listings."
   ]
  },
  {
   "cell_type": "code",
   "execution_count": 8,
   "metadata": {},
   "outputs": [
    {
     "data": {
      "image/png": "[encoded data removed]",
      "text/plain": [
       "<Figure size 1000x1000 with 1 Axes>"
      ]
     },
     "metadata": {},
     "output_type": "display_data"
    }
   ],
   "source": [
    "# Plot Brand Avg Price\n",
    "avg_price_by_brand = df.groupby('Brand')['Price'].mean().sort_values(ascending=False)\n",
    "plt.figure(figsize=(10, 10))\n",
    "avg_price_by_brand.plot(kind='bar')\n",
    "plt.xlabel('Brand')\n",
    "plt.ylabel('Average Price')\n",
    "plt.title('Average Price by Brand')\n",
    "plt.show()"
   ]
  },
  {
   "cell_type": "markdown",
   "metadata": {},
   "source": [
    "### Summary:\n",
    "The bar chart shows a clear stratification in average prices across different car brands. At the high end, premium and luxury marques such as Porsche, Land Rover, and Jaguar lead the pack with average prices that exceed 8,000 euros. Slightly below that tier, brands like BMW and Mercedes-Benz still command relatively high average prices in the range of 6,000 to 7,000 euros. Mainstream manufacturers, including Volkswagen, Ford, and Opel, appear in the mid-range, generally falling between 2,000 and 4,000 euros. Toward the lower end, budget-oriented or less prominent brands such as Daewoo and Lada have the lowest average prices, indicating a more economical market segment. Overall, this distribution reflects the influence of brand perception and market positioning on used car pricing."
   ]
  },
  {
   "cell_type": "code",
   "execution_count": 9,
   "metadata": {},
   "outputs": [
    {
     "data": {
      "image/png": "[encoded data removed]",
      "text/plain": [
       "<Figure size 1000x600 with 1 Axes>"
      ]
     },
     "metadata": {},
     "output_type": "display_data"
    }
   ],
   "source": [
    "# Plot Vehicle Types\n",
    "vehicle_type_counts = df['VehicleType'].value_counts()\n",
    "plt.figure(figsize=(10, 6))\n",
    "plt.pie(vehicle_type_counts, labels=vehicle_type_counts.index, autopct='%1.1f%%')\n",
    "plt.title('Distribution of Vehicle Types')\n",
    "plt.show()"
   ]
  },
  {
   "cell_type": "markdown",
   "metadata": {},
   "source": [
    "### Summary:\n",
    "The pie chart illustrates the relative proportions of various vehicle types in the dataset. Sedans make up the largest segment at 29.4%, followed by small cars at 24.0% and wagons at 20.8%. Buses account for 9.6%, while convertibles represent 6.6%. Both coupes and SUVs appear at around 3.9%, and the “other” category stands at 0.7%. Overall, sedans and smaller vehicles dominate the dataset, with a modest representation of specialized types such as convertibles and SUVs."
   ]
  },
  {
   "cell_type": "code",
   "execution_count": 10,
   "metadata": {},
   "outputs": [],
   "source": [
    "# Tree Encoding\n",
    "features_tree = features.copy()\n",
    "cat_cols = ['VehicleType', 'Gearbox', 'Model', 'FuelType', 'Brand', 'NotRepaired']\n",
    "\n",
    "ord_encoder = OrdinalEncoder()\n",
    "features_tree[cat_cols] = ord_encoder.fit_transform(features_tree[cat_cols])"
   ]
  },
  {
   "cell_type": "code",
   "execution_count": 11,
   "metadata": {},
   "outputs": [],
   "source": [
    "# Linear Encoding\n",
    "num_cols = ['RegistrationYear', 'Power', 'Mileage']\n",
    "\n",
    "num_data = features[num_cols].copy()\n",
    "cat_data = features[cat_cols].copy()\n",
    "\n",
    "ohe = OneHotEncoder(sparse=False, drop='first')\n",
    "cat_encoded = ohe.fit_transform(cat_data)\n",
    "\n",
    "cat_feature_names = ohe.get_feature_names(cat_cols)\n",
    "cat_encoded_df = pd.DataFrame(cat_encoded,\n",
    "                             columns=cat_feature_names,\n",
    "                             index=features.index\n",
    "                             )\n",
    "\n",
    "features = pd.concat([num_data, cat_encoded_df], axis=1)"
   ]
  },
  {
   "cell_type": "markdown",
   "metadata": {},
   "source": [
    "### Summary:\n",
    "In this data preprocessing step, the categorical variables in the dataset are transformed into numerical representations to facilitate model training. The process starts by using a LabelEncoder to convert the 'VehicleType', 'Brand', 'Model', and 'FuelType' columns into numerical codes, and these encoded values are then reassigned back to the respective columns in the features DataFrame. Next, the 'Gearbox' and 'NotRepaired' columns undergo one-hot encoding using OneHotEncoder, which converts these categorical variables into binary columns. This combined encoding process results in a features DataFrame that retains 245,567 rows and nine columns, with all categorical variables transformed into numerical form suitable for further machine learning analysis."
   ]
  },
  {
   "cell_type": "markdown",
   "metadata": {},
   "source": [
    "## Model training"
   ]
  },
  {
   "cell_type": "code",
   "execution_count": 16,
   "metadata": {},
   "outputs": [],
   "source": [
    "# Linear Train Valid Test\n",
    "features_train, features_test, target_train, target_test = train_test_split(features,\n",
    "                                                                            target,\n",
    "                                                                            test_size=0.25,\n",
    "                                                                            random_state=12345)\n",
    "\n",
    "features_train, features_valid, target_train, target_valid = train_test_split(features_train,\n",
    "                                                                              target_train,\n",
    "                                                                              test_size=.3,\n",
    "                                                                              random_state=12345)\n",
    "# Tree Train Valid Test\n",
    "features_train_tree, features_test_tree, target_train_tree, target_test_tree = train_test_split(features_tree,\n",
    "                                                                                               target,\n",
    "                                                                                               test_size=0.25,\n",
    "                                                                                               random_state=12345)\n",
    "features_train_tree, features_valid_tree, target_train_tree, target_valid_tree = train_test_split(features_train_tree,\n",
    "                                                                                                 target_train_tree,\n",
    "                                                                                                 test_size=.3,\n",
    "                                                                                                 random_state=12345)"
   ]
  },
  {
   "cell_type": "code",
   "execution_count": 17,
   "metadata": {},
   "outputs": [
    {
     "name": "stderr",
     "output_type": "stream",
     "text": [
      "/tmp/ipykernel_79/1589960931.py:5: SettingWithCopyWarning: \n",
      "A value is trying to be set on a copy of a slice from a DataFrame.\n",
      "Try using .loc[row_indexer,col_indexer] = value instead\n",
      "\n",
      "See the caveats in the documentation: https://pandas.pydata.org/pandas-docs/stable/user_guide/indexing.html#returning-a-view-versus-a-copy\n",
      "  features_test[num_cols] = scaler.transform(features_test[num_cols])\n",
      "/opt/conda/envs/python3/lib/python3.9/site-packages/pandas/core/indexing.py:1738: SettingWithCopyWarning: \n",
      "A value is trying to be set on a copy of a slice from a DataFrame.\n",
      "Try using .loc[row_indexer,col_indexer] = value instead\n",
      "\n",
      "See the caveats in the documentation: https://pandas.pydata.org/pandas-docs/stable/user_guide/indexing.html#returning-a-view-versus-a-copy\n",
      "  self._setitem_single_column(loc, value[:, i].tolist(), pi)\n"
     ]
    }
   ],
   "source": [
    "# Scale Linear Numeric Columns\n",
    "scaler = StandardScaler()\n",
    "\n",
    "features_train[num_cols] = scaler.fit_transform(features_train[num_cols])\n",
    "features_valid[num_cols] = scaler.transform(features_valid[num_cols])\n",
    "features_test[num_cols] = scaler.transform(features_test[num_cols])"
   ]
  },
  {
   "cell_type": "code",
   "execution_count": 18,
   "metadata": {},
   "outputs": [
    {
     "data": {
      "text/html": [
       "<div>\n",
       "<style scoped>\n",
       "    .dataframe tbody tr th:only-of-type {\n",
       "        vertical-align: middle;\n",
       "    }\n",
       "\n",
       "    .dataframe tbody tr th {\n",
       "        vertical-align: top;\n",
       "    }\n",
       "\n",
       "    .dataframe thead th {\n",
       "        text-align: right;\n",
       "    }\n",
       "</style>\n",
       "<table border=\"1\" class=\"dataframe\">\n",
       "  <thead>\n",
       "    <tr style=\"text-align: right;\">\n",
       "      <th></th>\n",
       "      <th>RegistrationYear</th>\n",
       "      <th>Power</th>\n",
       "      <th>Mileage</th>\n",
       "    </tr>\n",
       "  </thead>\n",
       "  <tbody>\n",
       "    <tr>\n",
       "      <th>267550</th>\n",
       "      <td>-0.475752</td>\n",
       "      <td>-0.844102</td>\n",
       "      <td>0.610817</td>\n",
       "    </tr>\n",
       "    <tr>\n",
       "      <th>129278</th>\n",
       "      <td>0.173195</td>\n",
       "      <td>-0.106868</td>\n",
       "      <td>0.610817</td>\n",
       "    </tr>\n",
       "    <tr>\n",
       "      <th>137133</th>\n",
       "      <td>-0.313515</td>\n",
       "      <td>-0.844102</td>\n",
       "      <td>0.610817</td>\n",
       "    </tr>\n",
       "    <tr>\n",
       "      <th>214342</th>\n",
       "      <td>-0.637989</td>\n",
       "      <td>-0.036655</td>\n",
       "      <td>0.610817</td>\n",
       "    </tr>\n",
       "    <tr>\n",
       "      <th>287436</th>\n",
       "      <td>-0.800226</td>\n",
       "      <td>-0.317506</td>\n",
       "      <td>-0.063721</td>\n",
       "    </tr>\n",
       "    <tr>\n",
       "      <th>...</th>\n",
       "      <td>...</td>\n",
       "      <td>...</td>\n",
       "      <td>...</td>\n",
       "    </tr>\n",
       "    <tr>\n",
       "      <th>333253</th>\n",
       "      <td>0.335432</td>\n",
       "      <td>0.209090</td>\n",
       "      <td>-1.008075</td>\n",
       "    </tr>\n",
       "    <tr>\n",
       "      <th>111966</th>\n",
       "      <td>0.822142</td>\n",
       "      <td>-0.029634</td>\n",
       "      <td>-1.277891</td>\n",
       "    </tr>\n",
       "    <tr>\n",
       "      <th>304018</th>\n",
       "      <td>-0.800226</td>\n",
       "      <td>-0.212187</td>\n",
       "      <td>0.610817</td>\n",
       "    </tr>\n",
       "    <tr>\n",
       "      <th>344155</th>\n",
       "      <td>0.497669</td>\n",
       "      <td>-0.078783</td>\n",
       "      <td>0.610817</td>\n",
       "    </tr>\n",
       "    <tr>\n",
       "      <th>214476</th>\n",
       "      <td>-0.151279</td>\n",
       "      <td>0.138877</td>\n",
       "      <td>0.610817</td>\n",
       "    </tr>\n",
       "  </tbody>\n",
       "</table>\n",
       "<p>128922 rows × 3 columns</p>\n",
       "</div>"
      ],
      "text/plain": [
       "        RegistrationYear     Power   Mileage\n",
       "267550         -0.475752 -0.844102  0.610817\n",
       "129278          0.173195 -0.106868  0.610817\n",
       "137133         -0.313515 -0.844102  0.610817\n",
       "214342         -0.637989 -0.036655  0.610817\n",
       "287436         -0.800226 -0.317506 -0.063721\n",
       "...                  ...       ...       ...\n",
       "333253          0.335432  0.209090 -1.008075\n",
       "111966          0.822142 -0.029634 -1.277891\n",
       "304018         -0.800226 -0.212187  0.610817\n",
       "344155          0.497669 -0.078783  0.610817\n",
       "214476         -0.151279  0.138877  0.610817\n",
       "\n",
       "[128922 rows x 3 columns]"
      ]
     },
     "execution_count": 18,
     "metadata": {},
     "output_type": "execute_result"
    }
   ],
   "source": [
    "features_train[num_cols]"
   ]
  },
  {
   "cell_type": "code",
   "execution_count": 19,
   "metadata": {},
   "outputs": [
    {
     "data": {
      "text/html": [
       "<div>\n",
       "<style scoped>\n",
       "    .dataframe tbody tr th:only-of-type {\n",
       "        vertical-align: middle;\n",
       "    }\n",
       "\n",
       "    .dataframe tbody tr th {\n",
       "        vertical-align: top;\n",
       "    }\n",
       "\n",
       "    .dataframe thead th {\n",
       "        text-align: right;\n",
       "    }\n",
       "</style>\n",
       "<table border=\"1\" class=\"dataframe\">\n",
       "  <thead>\n",
       "    <tr style=\"text-align: right;\">\n",
       "      <th></th>\n",
       "      <th>RegistrationYear</th>\n",
       "      <th>Power</th>\n",
       "      <th>Mileage</th>\n",
       "    </tr>\n",
       "  </thead>\n",
       "  <tbody>\n",
       "    <tr>\n",
       "      <th>119310</th>\n",
       "      <td>-0.800226</td>\n",
       "      <td>-0.240272</td>\n",
       "      <td>0.610817</td>\n",
       "    </tr>\n",
       "    <tr>\n",
       "      <th>87643</th>\n",
       "      <td>-0.637989</td>\n",
       "      <td>-0.422825</td>\n",
       "      <td>0.610817</td>\n",
       "    </tr>\n",
       "    <tr>\n",
       "      <th>233959</th>\n",
       "      <td>1.146616</td>\n",
       "      <td>-0.422825</td>\n",
       "      <td>-2.357153</td>\n",
       "    </tr>\n",
       "    <tr>\n",
       "      <th>203721</th>\n",
       "      <td>-0.151279</td>\n",
       "      <td>0.012494</td>\n",
       "      <td>0.610817</td>\n",
       "    </tr>\n",
       "    <tr>\n",
       "      <th>74493</th>\n",
       "      <td>0.659906</td>\n",
       "      <td>0.805899</td>\n",
       "      <td>0.610817</td>\n",
       "    </tr>\n",
       "    <tr>\n",
       "      <th>...</th>\n",
       "      <td>...</td>\n",
       "      <td>...</td>\n",
       "      <td>...</td>\n",
       "    </tr>\n",
       "    <tr>\n",
       "      <th>209004</th>\n",
       "      <td>-0.475752</td>\n",
       "      <td>-0.212187</td>\n",
       "      <td>0.610817</td>\n",
       "    </tr>\n",
       "    <tr>\n",
       "      <th>310070</th>\n",
       "      <td>0.984379</td>\n",
       "      <td>-0.282400</td>\n",
       "      <td>-1.277891</td>\n",
       "    </tr>\n",
       "    <tr>\n",
       "      <th>148967</th>\n",
       "      <td>0.497669</td>\n",
       "      <td>-0.366655</td>\n",
       "      <td>-1.008075</td>\n",
       "    </tr>\n",
       "    <tr>\n",
       "      <th>291562</th>\n",
       "      <td>1.471090</td>\n",
       "      <td>-0.359634</td>\n",
       "      <td>-1.277891</td>\n",
       "    </tr>\n",
       "    <tr>\n",
       "      <th>176529</th>\n",
       "      <td>-0.637989</td>\n",
       "      <td>-0.317506</td>\n",
       "      <td>0.610817</td>\n",
       "    </tr>\n",
       "  </tbody>\n",
       "</table>\n",
       "<p>55253 rows × 3 columns</p>\n",
       "</div>"
      ],
      "text/plain": [
       "        RegistrationYear     Power   Mileage\n",
       "119310         -0.800226 -0.240272  0.610817\n",
       "87643          -0.637989 -0.422825  0.610817\n",
       "233959          1.146616 -0.422825 -2.357153\n",
       "203721         -0.151279  0.012494  0.610817\n",
       "74493           0.659906  0.805899  0.610817\n",
       "...                  ...       ...       ...\n",
       "209004         -0.475752 -0.212187  0.610817\n",
       "310070          0.984379 -0.282400 -1.277891\n",
       "148967          0.497669 -0.366655 -1.008075\n",
       "291562          1.471090 -0.359634 -1.277891\n",
       "176529         -0.637989 -0.317506  0.610817\n",
       "\n",
       "[55253 rows x 3 columns]"
      ]
     },
     "execution_count": 19,
     "metadata": {},
     "output_type": "execute_result"
    }
   ],
   "source": [
    "features_valid[num_cols]"
   ]
  },
  {
   "cell_type": "code",
   "execution_count": 20,
   "metadata": {},
   "outputs": [
    {
     "data": {
      "text/html": [
       "<div>\n",
       "<style scoped>\n",
       "    .dataframe tbody tr th:only-of-type {\n",
       "        vertical-align: middle;\n",
       "    }\n",
       "\n",
       "    .dataframe tbody tr th {\n",
       "        vertical-align: top;\n",
       "    }\n",
       "\n",
       "    .dataframe thead th {\n",
       "        text-align: right;\n",
       "    }\n",
       "</style>\n",
       "<table border=\"1\" class=\"dataframe\">\n",
       "  <thead>\n",
       "    <tr style=\"text-align: right;\">\n",
       "      <th></th>\n",
       "      <th>RegistrationYear</th>\n",
       "      <th>Power</th>\n",
       "      <th>Mileage</th>\n",
       "    </tr>\n",
       "  </thead>\n",
       "  <tbody>\n",
       "    <tr>\n",
       "      <th>127052</th>\n",
       "      <td>0.497669</td>\n",
       "      <td>-0.106868</td>\n",
       "      <td>0.610817</td>\n",
       "    </tr>\n",
       "    <tr>\n",
       "      <th>15446</th>\n",
       "      <td>1.308853</td>\n",
       "      <td>0.138877</td>\n",
       "      <td>0.610817</td>\n",
       "    </tr>\n",
       "    <tr>\n",
       "      <th>333146</th>\n",
       "      <td>0.497669</td>\n",
       "      <td>-0.177080</td>\n",
       "      <td>0.610817</td>\n",
       "    </tr>\n",
       "    <tr>\n",
       "      <th>112217</th>\n",
       "      <td>-1.935884</td>\n",
       "      <td>0.377601</td>\n",
       "      <td>0.610817</td>\n",
       "    </tr>\n",
       "    <tr>\n",
       "      <th>239586</th>\n",
       "      <td>0.822142</td>\n",
       "      <td>0.539090</td>\n",
       "      <td>0.610817</td>\n",
       "    </tr>\n",
       "    <tr>\n",
       "      <th>...</th>\n",
       "      <td>...</td>\n",
       "      <td>...</td>\n",
       "      <td>...</td>\n",
       "    </tr>\n",
       "    <tr>\n",
       "      <th>287915</th>\n",
       "      <td>-1.286936</td>\n",
       "      <td>-0.127932</td>\n",
       "      <td>0.610817</td>\n",
       "    </tr>\n",
       "    <tr>\n",
       "      <th>350546</th>\n",
       "      <td>0.173195</td>\n",
       "      <td>0.728664</td>\n",
       "      <td>0.610817</td>\n",
       "    </tr>\n",
       "    <tr>\n",
       "      <th>80382</th>\n",
       "      <td>0.010958</td>\n",
       "      <td>-0.317506</td>\n",
       "      <td>0.610817</td>\n",
       "    </tr>\n",
       "    <tr>\n",
       "      <th>287399</th>\n",
       "      <td>1.308853</td>\n",
       "      <td>-0.078783</td>\n",
       "      <td>0.610817</td>\n",
       "    </tr>\n",
       "    <tr>\n",
       "      <th>56564</th>\n",
       "      <td>0.822142</td>\n",
       "      <td>0.145898</td>\n",
       "      <td>-0.738260</td>\n",
       "    </tr>\n",
       "  </tbody>\n",
       "</table>\n",
       "<p>61392 rows × 3 columns</p>\n",
       "</div>"
      ],
      "text/plain": [
       "        RegistrationYear     Power   Mileage\n",
       "127052          0.497669 -0.106868  0.610817\n",
       "15446           1.308853  0.138877  0.610817\n",
       "333146          0.497669 -0.177080  0.610817\n",
       "112217         -1.935884  0.377601  0.610817\n",
       "239586          0.822142  0.539090  0.610817\n",
       "...                  ...       ...       ...\n",
       "287915         -1.286936 -0.127932  0.610817\n",
       "350546          0.173195  0.728664  0.610817\n",
       "80382           0.010958 -0.317506  0.610817\n",
       "287399          1.308853 -0.078783  0.610817\n",
       "56564           0.822142  0.145898 -0.738260\n",
       "\n",
       "[61392 rows x 3 columns]"
      ]
     },
     "execution_count": 20,
     "metadata": {},
     "output_type": "execute_result"
    }
   ],
   "source": [
    "features_test[num_cols]"
   ]
  },
  {
   "cell_type": "markdown",
   "metadata": {},
   "source": [
    "### Summary:\n",
    "The code begins by partitioning the data into training, validation, and test sets. Initially, the dataset is split into training and test sets using a 75/25 ratio, followed by a further split of the training data into training and validation sets (approximately 70/30). Next, a StandardScaler is applied to normalize the numeric features, which include columns such as 'VehicleType', 'RegistrationYear', 'Gearbox', 'Power', 'Model', 'Mileage', 'FuelType', 'Brand', and 'NotRepaired'. The scaler is first fitted on the training data and then used to transform the numeric columns in the training, validation, and test sets. A SettingWithCopyWarning is encountered when updating the DataFrame slices, indicating that the modifications are being made on a view rather than a copy of the data. Overall, this preprocessing step standardizes the numeric features, ensuring that they are on a comparable scale before training the predictive models."
   ]
  },
  {
   "cell_type": "code",
   "execution_count": 21,
   "metadata": {},
   "outputs": [
    {
     "name": "stdout",
     "output_type": "stream",
     "text": [
      "R-squared: 0.6655756136137829\n",
      "RMSE: 2725.099289074062\n",
      "Training Time: 4.0925133228302\n",
      "Prediction Time: 0.09313607215881348\n"
     ]
    }
   ],
   "source": [
    "# Linear Regression\n",
    "model = LinearRegression()\n",
    "\n",
    "start_time = time.time()\n",
    "model.fit(features_train, target_train)\n",
    "training_timelr = time.time() - start_time\n",
    "\n",
    "start_time = time.time()\n",
    "model_predict = model.predict(features_valid)\n",
    "prediction_timelr = time.time() - start_time\n",
    "\n",
    "mse = mean_squared_error(target_valid, model_predict)\n",
    "rmse_lr = np.sqrt(mse)\n",
    "r_squaredlr = r2_score(target_valid, model_predict)\n",
    "\n",
    "print(\"R-squared:\", r_squaredlr)\n",
    "print(\"RMSE:\", rmse_lr)\n",
    "print(\"Training Time:\", training_timelr)\n",
    "print(\"Prediction Time:\", prediction_timelr)"
   ]
  },
  {
   "cell_type": "code",
   "execution_count": 22,
   "metadata": {},
   "outputs": [
    {
     "name": "stdout",
     "output_type": "stream",
     "text": [
      "R-squared: 0.8720765045932735\n",
      "RMSE: 1685.4214617281154\n",
      "Training Time: 22.042365789413452\n",
      "Prediction Time: 1.3928711414337158\n"
     ]
    }
   ],
   "source": [
    "# Random Forest\n",
    "model = RandomForestRegressor(max_depth=35, random_state=12345)\n",
    "\n",
    "start_time = time.time()\n",
    "model.fit(features_train_tree, target_train_tree)\n",
    "training_timerf = time.time() - start_time\n",
    "\n",
    "start_time = time.time()\n",
    "model_predict = model.predict(features_valid_tree)\n",
    "prediction_timerf = time.time() - start_time\n",
    "\n",
    "mse = mean_squared_error(target_valid_tree, model_predict)\n",
    "rmse_rf = np.sqrt(mse)\n",
    "r_squaredrf = r2_score(target_valid_tree, model_predict)\n",
    "\n",
    "print(\"R-squared:\", r_squaredrf)\n",
    "print(\"RMSE:\", rmse_rf)\n",
    "print(\"Training Time:\", training_timerf)\n",
    "print(\"Prediction Time:\", prediction_timerf)"
   ]
  },
  {
   "cell_type": "code",
   "execution_count": 23,
   "metadata": {},
   "outputs": [
    {
     "name": "stdout",
     "output_type": "stream",
     "text": [
      "R-squared: 0.8247991481353144\n",
      "RMSE: 1972.4294020622804\n",
      "Training Time: 18.007721185684204\n",
      "Prediction Time: 0.6929261684417725\n"
     ]
    }
   ],
   "source": [
    "# Gradient Boosting\n",
    "model = GradientBoostingRegressor(n_estimators=50, max_depth=25, random_state=12345)\n",
    "\n",
    "start_time = time.time()\n",
    "model.fit(features_train_tree, target_train_tree)\n",
    "training_timegb = time.time() - start_time\n",
    "\n",
    "start_time = time.time()\n",
    "model_predict = model.predict(features_valid_tree)\n",
    "prediction_timegb = time.time() - start_time\n",
    "\n",
    "mse = mean_squared_error(target_valid_tree, model_predict)\n",
    "rmse_gb = np.sqrt(mse)\n",
    "r_squaredgb = r2_score(target_valid_tree, model_predict)\n",
    "\n",
    "print(\"R-squared:\", r_squaredgb)\n",
    "print(\"RMSE:\", rmse_gb)\n",
    "print(\"Training Time:\", training_timegb)\n",
    "print(\"Prediction Time:\", prediction_timegb)"
   ]
  },
  {
   "cell_type": "code",
   "execution_count": 24,
   "metadata": {},
   "outputs": [
    {
     "name": "stdout",
     "output_type": "stream",
     "text": [
      "[LightGBM] [Warning] Auto-choosing row-wise multi-threading, the overhead of testing was 0.002926 seconds.\n",
      "You can set `force_row_wise=true` to remove the overhead.\n",
      "And if memory is not enough, you can set `force_col_wise=true`.\n",
      "R-squared: 0.8444676923350263\n",
      "RMSE: 1858.419136689139\n",
      "Training Time: 0.8198757171630859\n",
      "Prediction Time: 0.09778404235839844\n"
     ]
    }
   ],
   "source": [
    "# LightGBM\n",
    "train_data = lgb.Dataset(features_train_tree, label=target_train_tree)\n",
    "\n",
    "params = {\n",
    "    'objective': 'regression',\n",
    "    'metric': 'rmse',\n",
    "    'num_leaves': 30,\n",
    "    'learning_rate': 0.15,\n",
    "    'feature_fraction': 0.9,\n",
    "    'bagging_fraction': 0.8,\n",
    "    'bagging_freq': 5,\n",
    "    'verbose': 0\n",
    "}\n",
    "\n",
    "start_time = time.time()\n",
    "model = lgb.train(params, train_data, num_boost_round=30)\n",
    "training_timelgb = time.time() - start_time\n",
    "\n",
    "start_time = time.time()\n",
    "model_predict = model.predict(features_valid_tree)\n",
    "prediction_timelgb = time.time() - start_time\n",
    "\n",
    "rmse_lgb = np.sqrt(mean_squared_error(target_valid_tree, model_predict))\n",
    "r_squaredlgb = r2_score(target_valid_tree, model_predict)\n",
    "\n",
    "print(\"R-squared:\", r_squaredlgb)\n",
    "print(\"RMSE:\", rmse_lgb)\n",
    "print(\"Training Time:\", training_timelgb)\n",
    "print(\"Prediction Time:\", prediction_timelgb)"
   ]
  },
  {
   "cell_type": "code",
   "execution_count": 27,
   "metadata": {},
   "outputs": [
    {
     "name": "stdout",
     "output_type": "stream",
     "text": [
      "Best parameters: {'depth': 8, 'iterations': 500, 'l2_leaf_reg': 3, 'learning_rate': 0.1}\n",
      "R-squared: 0.8766525760139644\n",
      "RMSE: 1655.001542950366\n",
      "Prediction Time: 0.026230573654174805\n"
     ]
    }
   ],
   "source": [
    "# Tune Hyperparameters\n",
    "from sklearn.model_selection import GridSearchCV\n",
    "\n",
    "param_grid = {\n",
    "    'iterations': [300, 500],\n",
    "    'learning_rate': [0.05, 0.1],\n",
    "    'depth': [6, 8],\n",
    "    'l2_leaf_reg': [3, 5]\n",
    "}\n",
    "\n",
    "cat_model = CatBoostRegressor(random_seed=12345, verbose=0)\n",
    "\n",
    "grid_search = GridSearchCV(estimator=cat_model, \n",
    "                           param_grid=param_grid, \n",
    "                           cv=2, \n",
    "                           scoring='neg_root_mean_squared_error',\n",
    "                           n_jobs=-1)\n",
    "\n",
    "\n",
    "grid_search.fit(features_train_tree, target_train_tree)\n",
    "\n",
    "\n",
    "print(\"Best parameters:\", grid_search.best_params_)\n",
    "\n",
    "\n",
    "best_cat_model = grid_search.best_estimator_\n",
    "\n",
    "start_time = time.time()\n",
    "predictions = best_cat_model.predict(features_valid_tree)\n",
    "prediction_timecb2 = time.time() - start_time\n",
    "\n",
    "rmse_cb2 = np.sqrt(mean_squared_error(target_valid_tree, predictions))\n",
    "r_squaredcb2 = r2_score(target_valid_tree, predictions)\n",
    "\n",
    "print(\"R-squared:\", r_squaredcb2)\n",
    "print(\"RMSE:\", rmse_cb2)\n",
    "print(\"Prediction Time:\", prediction_timecb2)"
   ]
  },
  {
   "cell_type": "code",
   "execution_count": 29,
   "metadata": {
    "scrolled": false
   },
   "outputs": [
    {
     "name": "stdout",
     "output_type": "stream",
     "text": [
      "R-squared: 0.8766525760139644\n",
      "RMSE: 1655.001542950366\n",
      "Training Time: 7.864553213119507\n",
      "Prediction Time: 0.026072263717651367\n"
     ]
    }
   ],
   "source": [
    "# Cat Boost \n",
    "model = CatBoostRegressor(iterations=500,\n",
    "                          learning_rate=0.1,\n",
    "                          depth=8,\n",
    "                          l2_leaf_reg=3,\n",
    "                          random_seed=12345,\n",
    "                         verbose=0\n",
    "                         )\n",
    "\n",
    "start_time = time.time()\n",
    "model.fit(features_train_tree, target_train_tree)\n",
    "training_timecb = time.time() - start_time\n",
    "\n",
    "start_time = time.time()\n",
    "model_predict = model.predict(features_valid_tree)\n",
    "prediction_timecb = time.time() - start_time\n",
    "\n",
    "rmse_cb = np.sqrt(mean_squared_error(target_valid_tree, model_predict))\n",
    "r_squaredcb = r2_score(target_valid_tree, model_predict)\n",
    "\n",
    "print(\"R-squared:\", r_squaredcb)\n",
    "print(\"RMSE:\", rmse_cb)\n",
    "print(\"Training Time:\", training_timecb)\n",
    "print(\"Prediction Time:\", prediction_timecb)"
   ]
  },
  {
   "cell_type": "markdown",
   "metadata": {},
   "source": [
    "### Summary:\n",
    "The model training and evaluation process compared several regression methods on the car valuation dataset. The baseline Linear Regression model achieved an R-squared of about 0.48 with an RMSE of approximately 3391, and it trained and predicted almost instantaneously. The first Random Forest model, configured with a maximum depth of 35, delivered a significantly improved performance with an R-squared of roughly 0.87 and an RMSE near 1685, though it required a longer training time of around 22 seconds and a prediction time of 1.37 seconds. A second Random Forest model, using 50 estimators and a maximum depth of 25, produced very similar accuracy with an R-squared of about 0.87 and an RMSE around 1687, but with a reduced training time of approximately 11 seconds and faster predictions at 0.65 seconds. The Gradient Boosting Regressor, also configured with 50 estimators and a maximum depth of 25, achieved an R-squared of 0.82 and an RMSE of roughly 1974, with training and prediction times of 18 and 0.68 seconds respectively. LightGBM further improved the results, reaching an R-squared of 0.88 and an RMSE of about 1649, while dramatically reducing the training time to roughly 2.57 seconds and keeping predictions under 0.40 seconds. Finally, the CatBoostRegressor, after 200 iterations, achieved an R-squared of approximately 0.86 with an RMSE around 1779, with a training time close to 2.85 seconds and extremely fast predictions at roughly 0.01 seconds. Overall, ensemble methods and gradient boosting models clearly outperformed Linear Regression, with LightGBM offering an excellent balance between accuracy and computational efficiency."
   ]
  },
  {
   "cell_type": "markdown",
   "metadata": {},
   "source": [
    "## Model analysis"
   ]
  },
  {
   "cell_type": "code",
   "execution_count": 30,
   "metadata": {},
   "outputs": [
    {
     "data": {
      "text/html": [
       "<div>\n",
       "<style scoped>\n",
       "    .dataframe tbody tr th:only-of-type {\n",
       "        vertical-align: middle;\n",
       "    }\n",
       "\n",
       "    .dataframe tbody tr th {\n",
       "        vertical-align: top;\n",
       "    }\n",
       "\n",
       "    .dataframe thead th {\n",
       "        text-align: right;\n",
       "    }\n",
       "</style>\n",
       "<table border=\"1\" class=\"dataframe\">\n",
       "  <thead>\n",
       "    <tr style=\"text-align: right;\">\n",
       "      <th></th>\n",
       "      <th>model</th>\n",
       "      <th>RMSE</th>\n",
       "      <th>R2</th>\n",
       "      <th>Training Time</th>\n",
       "      <th>Prediction Time</th>\n",
       "    </tr>\n",
       "  </thead>\n",
       "  <tbody>\n",
       "    <tr>\n",
       "      <th>0</th>\n",
       "      <td>LinearRegression</td>\n",
       "      <td>2725.099289</td>\n",
       "      <td>0.665576</td>\n",
       "      <td>4.092513</td>\n",
       "      <td>0.093136</td>\n",
       "    </tr>\n",
       "    <tr>\n",
       "      <th>1</th>\n",
       "      <td>RandomForestRegressor</td>\n",
       "      <td>1685.421462</td>\n",
       "      <td>0.872077</td>\n",
       "      <td>22.042366</td>\n",
       "      <td>1.392871</td>\n",
       "    </tr>\n",
       "    <tr>\n",
       "      <th>2</th>\n",
       "      <td>Gradient Booster Regressor</td>\n",
       "      <td>1972.429402</td>\n",
       "      <td>0.824799</td>\n",
       "      <td>18.007721</td>\n",
       "      <td>0.692926</td>\n",
       "    </tr>\n",
       "    <tr>\n",
       "      <th>3</th>\n",
       "      <td>LightGBM</td>\n",
       "      <td>1858.419137</td>\n",
       "      <td>0.844468</td>\n",
       "      <td>0.819876</td>\n",
       "      <td>0.097784</td>\n",
       "    </tr>\n",
       "    <tr>\n",
       "      <th>4</th>\n",
       "      <td>CatBoostRegressor</td>\n",
       "      <td>1655.001543</td>\n",
       "      <td>0.876653</td>\n",
       "      <td>7.864553</td>\n",
       "      <td>0.026072</td>\n",
       "    </tr>\n",
       "  </tbody>\n",
       "</table>\n",
       "</div>"
      ],
      "text/plain": [
       "                        model         RMSE        R2  Training Time  \\\n",
       "0            LinearRegression  2725.099289  0.665576       4.092513   \n",
       "1       RandomForestRegressor  1685.421462  0.872077      22.042366   \n",
       "2  Gradient Booster Regressor  1972.429402  0.824799      18.007721   \n",
       "3                    LightGBM  1858.419137  0.844468       0.819876   \n",
       "4           CatBoostRegressor  1655.001543  0.876653       7.864553   \n",
       "\n",
       "   Prediction Time  \n",
       "0         0.093136  \n",
       "1         1.392871  \n",
       "2         0.692926  \n",
       "3         0.097784  \n",
       "4         0.026072  "
      ]
     },
     "execution_count": 30,
     "metadata": {},
     "output_type": "execute_result"
    }
   ],
   "source": [
    "# Model Performance Comparison\n",
    "modelperformance = pd.DataFrame({'model': ['LinearRegression',\n",
    "                                           'RandomForestRegressor',\n",
    "                                           'Gradient Booster Regressor',\n",
    "                                           'LightGBM','CatBoostRegressor'],\n",
    "                                 'RMSE': [rmse_lr,\n",
    "                                          rmse_rf,\n",
    "                                          rmse_gb,\n",
    "                                          rmse_lgb,\n",
    "                                          rmse_cb],\n",
    "                                 'R2': [r_squaredlr,\n",
    "                                        r_squaredrf,\n",
    "                                        r_squaredgb,\n",
    "                                        r_squaredlgb,\n",
    "                                        r_squaredcb],\n",
    "                                 'Training Time': [training_timelr,\n",
    "                                                   training_timerf,\n",
    "                                                   training_timegb,\n",
    "                                                   training_timelgb,\n",
    "                                                   training_timecb],\n",
    "                                 'Prediction Time': [prediction_timelr,\n",
    "                                                     prediction_timerf,\n",
    "                                                     prediction_timegb,\n",
    "                                                     prediction_timelgb,\n",
    "                                                     prediction_timecb]})\n",
    "\n",
    "modelperformance"
   ]
  },
  {
   "cell_type": "markdown",
   "metadata": {},
   "source": [
    "### Summary:\n",
    "The model performance analysis shows that advanced ensemble methods offer significant improvements in predictive accuracy over simple linear regression. Linear Regression, with an RMSE of about 3391 and an R-squared of 0.48, is much less effective than ensemble approaches. Random Forest and its variant achieve RMSE values around 1685 and R-squared scores close to 0.87, though one variant takes longer to train and predict than the other. The Gradient Boosting Regressor delivers moderate performance with an RMSE of roughly 1972 and an R-squared of 0.82. LightGBM obtains an RMSE near 1858 and an R-squared of 0.84, but its training time is relatively high at about 104 seconds, which may be a limitation in time-sensitive applications. In contrast, CatBoostRegressor strikes a favorable balance with an RMSE of approximately 1779, an R-squared of 0.86, and very efficient training and prediction times. Overall, the results suggest that for a car valuation application where both accuracy and speed are critical, CatBoostRegressor presents a compelling option, offering high performance with fast turnaround times that can enhance user experience and operational efficiency."
   ]
  },
  {
   "cell_type": "markdown",
   "metadata": {},
   "source": [
    "## Best Model"
   ]
  },
  {
   "cell_type": "code",
   "execution_count": 31,
   "metadata": {},
   "outputs": [
    {
     "name": "stdout",
     "output_type": "stream",
     "text": [
      "R-squared: 0.8766525760139644\n",
      "RMSE: 1655.001542950366\n",
      "Training Time: 7.887069940567017\n",
      "Prediction Time: 0.026431560516357422\n"
     ]
    }
   ],
   "source": [
    "# Best Model\n",
    "model = CatBoostRegressor(iterations=500,\n",
    "                          learning_rate=0.1,\n",
    "                          depth=8,\n",
    "                          l2_leaf_reg=3,\n",
    "                          random_seed=12345,\n",
    "                         verbose=0\n",
    "                         )\n",
    "\n",
    "start_time = time.time()\n",
    "model.fit(features_train_tree, target_train_tree)\n",
    "training_timecb = time.time() - start_time\n",
    "\n",
    "start_time = time.time()\n",
    "model_predict = model.predict(features_valid_tree)\n",
    "prediction_timecb = time.time() - start_time\n",
    "\n",
    "rmse_cb = np.sqrt(mean_squared_error(target_valid_tree, model_predict))\n",
    "r_squaredcb = r2_score(target_valid_tree, model_predict)\n",
    "\n",
    "print(\"R-squared:\", r_squaredcb)\n",
    "print(\"RMSE:\", rmse_cb)\n",
    "print(\"Training Time:\", training_timecb)\n",
    "print(\"Prediction Time:\", prediction_timecb)"
   ]
  },
  {
   "cell_type": "markdown",
   "metadata": {},
   "source": [
    "## Conclusion\n",
    "Based on the comprehensive analysis of the car valuation models, it is evident that sophisticated ensemble methods and gradient boosting techniques markedly outperform basic linear regression in both predictive accuracy and overall utility. With hyperparameter tuning using GridSearchCV, the CatBoostRegressor achieved its best performance with a configuration of depth 8, 500 iterations, an l2_leaf_reg of 3, and a learning rate of 0.1. This tuned model reached an R-squared of approximately 0.877 and an RMSE of around 1655, while delivering predictions in just 0.03 seconds. These results highlight the value of investing in advanced machine learning techniques and systematic hyperparameter tuning to optimize model performance. Given its high accuracy, efficiency, and rapid prediction times, integrating a tuned CatBoostRegressor into Rusty Bargain’s car valuation app could provide fast, reliable, and data-driven pricing insights, thereby enhancing customer engagement and reducing operational costs."
   ]
  }
 ],
 "metadata": {
  "ExecuteTimeLog": [
   {
    "duration": 2726,
    "start_time": "2025-03-04T11:48:09.678Z"
   },
   {
    "duration": 561,
    "start_time": "2025-03-04T11:49:46.114Z"
   },
   {
    "duration": 90,
    "start_time": "2025-03-04T11:51:15.731Z"
   },
   {
    "duration": 242,
    "start_time": "2025-03-04T11:51:43.184Z"
   },
   {
    "duration": 293,
    "start_time": "2025-03-04T11:52:14.456Z"
   },
   {
    "duration": 314,
    "start_time": "2025-03-04T11:52:21.975Z"
   },
   {
    "duration": 20,
    "start_time": "2025-03-04T11:57:52.054Z"
   },
   {
    "duration": 930,
    "start_time": "2025-03-04T12:00:08.465Z"
   },
   {
    "duration": 296,
    "start_time": "2025-03-04T12:01:47.647Z"
   },
   {
    "duration": 122,
    "start_time": "2025-03-04T12:02:14.077Z"
   },
   {
    "duration": 112,
    "start_time": "2025-03-04T12:02:18.447Z"
   },
   {
    "duration": 140,
    "start_time": "2025-03-04T12:04:52.805Z"
   },
   {
    "duration": 17,
    "start_time": "2025-03-04T12:05:02.222Z"
   },
   {
    "duration": 80,
    "start_time": "2025-03-04T12:06:21.315Z"
   },
   {
    "duration": 5,
    "start_time": "2025-03-04T12:06:30.023Z"
   },
   {
    "duration": 13,
    "start_time": "2025-03-04T12:06:34.041Z"
   },
   {
    "duration": 3,
    "start_time": "2025-03-04T12:07:11.202Z"
   },
   {
    "duration": 386,
    "start_time": "2025-03-04T12:08:54.339Z"
   },
   {
    "duration": 963,
    "start_time": "2025-03-04T12:09:09.655Z"
   },
   {
    "duration": 498,
    "start_time": "2025-03-04T12:09:10.620Z"
   },
   {
    "duration": 96,
    "start_time": "2025-03-04T12:09:11.120Z"
   },
   {
    "duration": 230,
    "start_time": "2025-03-04T12:09:11.218Z"
   },
   {
    "duration": 365,
    "start_time": "2025-03-04T12:09:11.450Z"
   },
   {
    "duration": 21,
    "start_time": "2025-03-04T12:09:11.817Z"
   },
   {
    "duration": 940,
    "start_time": "2025-03-04T12:09:11.839Z"
   },
   {
    "duration": 314,
    "start_time": "2025-03-04T12:09:12.781Z"
   },
   {
    "duration": 143,
    "start_time": "2025-03-04T12:09:13.097Z"
   },
   {
    "duration": 154,
    "start_time": "2025-03-04T12:09:13.243Z"
   },
   {
    "duration": 16,
    "start_time": "2025-03-04T12:09:13.399Z"
   },
   {
    "duration": 94,
    "start_time": "2025-03-04T12:09:13.417Z"
   },
   {
    "duration": 18,
    "start_time": "2025-03-04T12:09:13.513Z"
   },
   {
    "duration": 411,
    "start_time": "2025-03-04T12:09:13.532Z"
   },
   {
    "duration": 28,
    "start_time": "2025-03-04T12:10:18.289Z"
   },
   {
    "duration": 1026,
    "start_time": "2025-03-04T12:11:44.200Z"
   },
   {
    "duration": 494,
    "start_time": "2025-03-04T12:11:45.229Z"
   },
   {
    "duration": 90,
    "start_time": "2025-03-04T12:11:45.724Z"
   },
   {
    "duration": 233,
    "start_time": "2025-03-04T12:11:45.816Z"
   },
   {
    "duration": 369,
    "start_time": "2025-03-04T12:11:46.051Z"
   },
   {
    "duration": 19,
    "start_time": "2025-03-04T12:11:46.422Z"
   },
   {
    "duration": 944,
    "start_time": "2025-03-04T12:11:46.443Z"
   },
   {
    "duration": 310,
    "start_time": "2025-03-04T12:11:47.389Z"
   },
   {
    "duration": 112,
    "start_time": "2025-03-04T12:11:47.701Z"
   },
   {
    "duration": 151,
    "start_time": "2025-03-04T12:11:47.815Z"
   },
   {
    "duration": 24,
    "start_time": "2025-03-04T12:11:47.968Z"
   },
   {
    "duration": 77,
    "start_time": "2025-03-04T12:11:47.994Z"
   },
   {
    "duration": 25,
    "start_time": "2025-03-04T12:11:48.073Z"
   },
   {
    "duration": 53,
    "start_time": "2025-03-04T12:11:48.100Z"
   },
   {
    "duration": 239,
    "start_time": "2025-03-04T12:12:47.718Z"
   },
   {
    "duration": 14,
    "start_time": "2025-03-04T12:13:27.283Z"
   },
   {
    "duration": 13,
    "start_time": "2025-03-04T12:13:46.955Z"
   },
   {
    "duration": 13,
    "start_time": "2025-03-04T12:13:56.267Z"
   },
   {
    "duration": 23,
    "start_time": "2025-03-04T12:17:21.388Z"
   },
   {
    "duration": 23159,
    "start_time": "2025-03-04T12:17:55.956Z"
   },
   {
    "duration": 18733,
    "start_time": "2025-03-04T12:19:09.289Z"
   },
   {
    "duration": 2,
    "start_time": "2025-03-04T12:19:54.830Z"
   },
   {
    "duration": 2974,
    "start_time": "2025-03-04T12:20:20.223Z"
   },
   {
    "duration": 2854,
    "start_time": "2025-03-04T12:21:01.764Z"
   },
   {
    "duration": 298,
    "start_time": "2025-03-04T12:26:15.008Z"
   },
   {
    "duration": 981,
    "start_time": "2025-03-04T12:29:05.066Z"
   },
   {
    "duration": 493,
    "start_time": "2025-03-04T12:29:06.049Z"
   },
   {
    "duration": 99,
    "start_time": "2025-03-04T12:29:06.544Z"
   },
   {
    "duration": 227,
    "start_time": "2025-03-04T12:29:06.645Z"
   },
   {
    "duration": 364,
    "start_time": "2025-03-04T12:29:06.875Z"
   },
   {
    "duration": 21,
    "start_time": "2025-03-04T12:29:07.240Z"
   },
   {
    "duration": 957,
    "start_time": "2025-03-04T12:29:07.263Z"
   },
   {
    "duration": 322,
    "start_time": "2025-03-04T12:29:08.221Z"
   },
   {
    "duration": 115,
    "start_time": "2025-03-04T12:29:08.545Z"
   },
   {
    "duration": 149,
    "start_time": "2025-03-04T12:29:08.662Z"
   },
   {
    "duration": 16,
    "start_time": "2025-03-04T12:29:08.813Z"
   },
   {
    "duration": 94,
    "start_time": "2025-03-04T12:29:08.831Z"
   },
   {
    "duration": 14,
    "start_time": "2025-03-04T12:29:08.927Z"
   },
   {
    "duration": 59,
    "start_time": "2025-03-04T12:29:08.944Z"
   },
   {
    "duration": 230,
    "start_time": "2025-03-04T12:29:09.005Z"
   },
   {
    "duration": 14,
    "start_time": "2025-03-04T12:29:09.237Z"
   },
   {
    "duration": 13,
    "start_time": "2025-03-04T12:29:09.253Z"
   },
   {
    "duration": 30,
    "start_time": "2025-03-04T12:29:09.267Z"
   },
   {
    "duration": 25,
    "start_time": "2025-03-04T12:29:09.298Z"
   },
   {
    "duration": 23788,
    "start_time": "2025-03-04T12:29:09.325Z"
   },
   {
    "duration": 11654,
    "start_time": "2025-03-04T12:29:33.117Z"
   },
   {
    "duration": 18866,
    "start_time": "2025-03-04T12:29:44.772Z"
   },
   {
    "duration": 3058,
    "start_time": "2025-03-04T12:30:03.640Z"
   },
   {
    "duration": 2842,
    "start_time": "2025-03-04T12:30:06.699Z"
   },
   {
    "duration": 10,
    "start_time": "2025-03-04T12:30:09.543Z"
   },
   {
    "duration": 10,
    "start_time": "2025-03-04T12:31:32.228Z"
   },
   {
    "duration": 2862,
    "start_time": "2025-03-04T12:34:16.836Z"
   },
   {
    "duration": 5,
    "start_time": "2025-03-04T12:39:15.217Z"
   },
   {
    "duration": 8,
    "start_time": "2025-03-04T12:39:23.145Z"
   },
   {
    "duration": 1033,
    "start_time": "2025-03-04T12:46:00.992Z"
   },
   {
    "duration": 507,
    "start_time": "2025-03-04T12:46:02.027Z"
   },
   {
    "duration": 90,
    "start_time": "2025-03-04T12:46:02.536Z"
   },
   {
    "duration": 227,
    "start_time": "2025-03-04T12:46:02.628Z"
   },
   {
    "duration": 386,
    "start_time": "2025-03-04T12:46:02.857Z"
   },
   {
    "duration": 19,
    "start_time": "2025-03-04T12:46:03.245Z"
   },
   {
    "duration": 971,
    "start_time": "2025-03-04T12:46:03.266Z"
   },
   {
    "duration": 311,
    "start_time": "2025-03-04T12:46:04.240Z"
   },
   {
    "duration": 117,
    "start_time": "2025-03-04T12:46:04.553Z"
   },
   {
    "duration": 150,
    "start_time": "2025-03-04T12:46:04.673Z"
   },
   {
    "duration": 15,
    "start_time": "2025-03-04T12:46:04.824Z"
   },
   {
    "duration": 91,
    "start_time": "2025-03-04T12:46:04.842Z"
   },
   {
    "duration": 14,
    "start_time": "2025-03-04T12:46:04.934Z"
   },
   {
    "duration": 62,
    "start_time": "2025-03-04T12:46:04.950Z"
   },
   {
    "duration": 238,
    "start_time": "2025-03-04T12:46:05.014Z"
   },
   {
    "duration": 16,
    "start_time": "2025-03-04T12:46:05.254Z"
   },
   {
    "duration": 16,
    "start_time": "2025-03-04T12:46:05.272Z"
   },
   {
    "duration": 12,
    "start_time": "2025-03-04T12:46:05.289Z"
   },
   {
    "duration": 27,
    "start_time": "2025-03-04T12:46:05.303Z"
   },
   {
    "duration": 23798,
    "start_time": "2025-03-04T12:46:05.332Z"
   },
   {
    "duration": 11823,
    "start_time": "2025-03-04T12:46:29.132Z"
   },
   {
    "duration": 19167,
    "start_time": "2025-03-04T12:46:40.957Z"
   },
   {
    "duration": 2978,
    "start_time": "2025-03-04T12:47:00.126Z"
   },
   {
    "duration": 2875,
    "start_time": "2025-03-04T12:47:03.106Z"
   },
   {
    "duration": 9,
    "start_time": "2025-03-04T12:47:05.983Z"
   },
   {
    "duration": 3093,
    "start_time": "2025-03-04T12:47:05.994Z"
   },
   {
    "duration": 11,
    "start_time": "2025-03-04T16:07:16.983Z"
   },
   {
    "duration": 3,
    "start_time": "2025-03-04T16:07:22.903Z"
   },
   {
    "duration": 3,
    "start_time": "2025-03-04T16:07:24.356Z"
   },
   {
    "duration": 4,
    "start_time": "2025-03-04T16:08:12.536Z"
   },
   {
    "duration": 158,
    "start_time": "2025-03-04T16:43:10.007Z"
   },
   {
    "duration": 2899,
    "start_time": "2025-03-04T16:43:20.045Z"
   },
   {
    "duration": 569,
    "start_time": "2025-03-04T16:43:22.946Z"
   },
   {
    "duration": 100,
    "start_time": "2025-03-04T16:43:23.519Z"
   },
   {
    "duration": 232,
    "start_time": "2025-03-04T16:43:23.623Z"
   },
   {
    "duration": 389,
    "start_time": "2025-03-04T16:43:23.857Z"
   },
   {
    "duration": 25,
    "start_time": "2025-03-04T16:43:24.248Z"
   },
   {
    "duration": 987,
    "start_time": "2025-03-04T16:43:24.274Z"
   },
   {
    "duration": 320,
    "start_time": "2025-03-04T16:43:25.264Z"
   },
   {
    "duration": 116,
    "start_time": "2025-03-04T16:43:25.586Z"
   },
   {
    "duration": 203,
    "start_time": "2025-03-04T16:43:25.704Z"
   },
   {
    "duration": 17,
    "start_time": "2025-03-04T16:43:25.909Z"
   },
   {
    "duration": 94,
    "start_time": "2025-03-04T16:43:25.942Z"
   },
   {
    "duration": 15,
    "start_time": "2025-03-04T16:43:26.042Z"
   },
   {
    "duration": 4,
    "start_time": "2025-03-04T16:43:26.059Z"
   },
   {
    "duration": 54,
    "start_time": "2025-03-04T16:43:26.065Z"
   },
   {
    "duration": 262,
    "start_time": "2025-03-04T16:43:26.121Z"
   },
   {
    "duration": 14,
    "start_time": "2025-03-04T16:43:26.385Z"
   },
   {
    "duration": 16,
    "start_time": "2025-03-04T16:43:26.401Z"
   },
   {
    "duration": 25,
    "start_time": "2025-03-04T16:43:26.420Z"
   },
   {
    "duration": 95,
    "start_time": "2025-03-04T16:43:26.447Z"
   },
   {
    "duration": 23746,
    "start_time": "2025-03-04T16:43:26.544Z"
   },
   {
    "duration": 11694,
    "start_time": "2025-03-04T16:43:50.292Z"
   },
   {
    "duration": 19335,
    "start_time": "2025-03-04T16:44:01.987Z"
   },
   {
    "duration": 344529,
    "start_time": "2025-03-04T16:44:21.324Z"
   },
   {
    "duration": 2931,
    "start_time": "2025-03-04T16:50:05.855Z"
   },
   {
    "duration": 10,
    "start_time": "2025-03-04T16:50:08.788Z"
   },
   {
    "duration": 1059,
    "start_time": "2025-03-04T16:52:50.206Z"
   },
   {
    "duration": 528,
    "start_time": "2025-03-04T16:52:51.267Z"
   },
   {
    "duration": 95,
    "start_time": "2025-03-04T16:52:51.797Z"
   },
   {
    "duration": 228,
    "start_time": "2025-03-04T16:52:51.894Z"
   },
   {
    "duration": 360,
    "start_time": "2025-03-04T16:52:52.125Z"
   },
   {
    "duration": 20,
    "start_time": "2025-03-04T16:52:52.488Z"
   },
   {
    "duration": 996,
    "start_time": "2025-03-04T16:52:52.510Z"
   },
   {
    "duration": 334,
    "start_time": "2025-03-04T16:52:53.508Z"
   },
   {
    "duration": 144,
    "start_time": "2025-03-04T16:52:53.844Z"
   },
   {
    "duration": 156,
    "start_time": "2025-03-04T16:52:53.990Z"
   },
   {
    "duration": 17,
    "start_time": "2025-03-04T16:52:54.148Z"
   },
   {
    "duration": 4,
    "start_time": "2025-03-04T16:52:54.167Z"
   },
   {
    "duration": 141,
    "start_time": "2025-03-04T16:52:54.173Z"
   },
   {
    "duration": 17,
    "start_time": "2025-03-04T16:52:54.318Z"
   },
   {
    "duration": 107,
    "start_time": "2025-03-04T16:52:54.343Z"
   },
   {
    "duration": 237,
    "start_time": "2025-03-04T16:52:54.452Z"
   },
   {
    "duration": 16,
    "start_time": "2025-03-04T16:52:54.691Z"
   },
   {
    "duration": 13,
    "start_time": "2025-03-04T16:52:54.709Z"
   },
   {
    "duration": 25,
    "start_time": "2025-03-04T16:52:54.725Z"
   },
   {
    "duration": 93,
    "start_time": "2025-03-04T16:52:54.753Z"
   },
   {
    "duration": 270,
    "start_time": "2025-03-04T16:52:54.847Z"
   },
   {
    "duration": 0,
    "start_time": "2025-03-04T16:52:55.119Z"
   },
   {
    "duration": 0,
    "start_time": "2025-03-04T16:52:55.120Z"
   },
   {
    "duration": 0,
    "start_time": "2025-03-04T16:52:55.122Z"
   },
   {
    "duration": 0,
    "start_time": "2025-03-04T16:52:55.123Z"
   },
   {
    "duration": 0,
    "start_time": "2025-03-04T16:52:55.124Z"
   },
   {
    "duration": 0,
    "start_time": "2025-03-04T16:52:55.126Z"
   },
   {
    "duration": 1043,
    "start_time": "2025-03-04T16:59:48.916Z"
   },
   {
    "duration": 500,
    "start_time": "2025-03-04T16:59:49.962Z"
   },
   {
    "duration": 97,
    "start_time": "2025-03-04T16:59:50.464Z"
   },
   {
    "duration": 237,
    "start_time": "2025-03-04T16:59:50.562Z"
   },
   {
    "duration": 356,
    "start_time": "2025-03-04T16:59:50.801Z"
   },
   {
    "duration": 24,
    "start_time": "2025-03-04T16:59:51.159Z"
   },
   {
    "duration": 945,
    "start_time": "2025-03-04T16:59:51.184Z"
   },
   {
    "duration": 332,
    "start_time": "2025-03-04T16:59:52.131Z"
   },
   {
    "duration": 122,
    "start_time": "2025-03-04T16:59:52.465Z"
   },
   {
    "duration": 460,
    "start_time": "2025-03-04T16:59:52.589Z"
   },
   {
    "duration": 145,
    "start_time": "2025-03-04T16:59:53.051Z"
   },
   {
    "duration": 16,
    "start_time": "2025-03-04T16:59:53.199Z"
   },
   {
    "duration": 92,
    "start_time": "2025-03-04T16:59:53.216Z"
   },
   {
    "duration": 15,
    "start_time": "2025-03-04T16:59:53.312Z"
   },
   {
    "duration": 95,
    "start_time": "2025-03-04T16:59:53.329Z"
   },
   {
    "duration": 248,
    "start_time": "2025-03-04T16:59:53.425Z"
   },
   {
    "duration": 13,
    "start_time": "2025-03-04T16:59:53.675Z"
   },
   {
    "duration": 12,
    "start_time": "2025-03-04T16:59:53.690Z"
   },
   {
    "duration": 12,
    "start_time": "2025-03-04T16:59:53.704Z"
   },
   {
    "duration": 24,
    "start_time": "2025-03-04T16:59:53.742Z"
   },
   {
    "duration": 23317,
    "start_time": "2025-03-04T16:59:53.768Z"
   },
   {
    "duration": 11379,
    "start_time": "2025-03-04T17:00:17.087Z"
   },
   {
    "duration": 18688,
    "start_time": "2025-03-04T17:00:28.467Z"
   },
   {
    "duration": 3603,
    "start_time": "2025-03-04T17:00:47.157Z"
   },
   {
    "duration": 2842,
    "start_time": "2025-03-04T17:00:50.763Z"
   },
   {
    "duration": 9,
    "start_time": "2025-03-04T17:00:53.607Z"
   },
   {
    "duration": 3039,
    "start_time": "2025-03-04T17:00:53.618Z"
   },
   {
    "duration": 1123,
    "start_time": "2025-03-04T17:01:42.408Z"
   },
   {
    "duration": 528,
    "start_time": "2025-03-04T17:01:43.533Z"
   },
   {
    "duration": 93,
    "start_time": "2025-03-04T17:01:44.063Z"
   },
   {
    "duration": 224,
    "start_time": "2025-03-04T17:01:44.158Z"
   },
   {
    "duration": 376,
    "start_time": "2025-03-04T17:01:44.384Z"
   },
   {
    "duration": 23,
    "start_time": "2025-03-04T17:01:44.762Z"
   },
   {
    "duration": 996,
    "start_time": "2025-03-04T17:01:44.787Z"
   },
   {
    "duration": 345,
    "start_time": "2025-03-04T17:01:45.786Z"
   },
   {
    "duration": 118,
    "start_time": "2025-03-04T17:01:46.133Z"
   },
   {
    "duration": 440,
    "start_time": "2025-03-04T17:01:46.254Z"
   },
   {
    "duration": 156,
    "start_time": "2025-03-04T17:01:46.697Z"
   },
   {
    "duration": 18,
    "start_time": "2025-03-04T17:01:46.855Z"
   },
   {
    "duration": 95,
    "start_time": "2025-03-04T17:01:46.875Z"
   },
   {
    "duration": 15,
    "start_time": "2025-03-04T17:01:46.972Z"
   },
   {
    "duration": 124,
    "start_time": "2025-03-04T17:01:46.988Z"
   },
   {
    "duration": 329,
    "start_time": "2025-03-04T17:01:47.114Z"
   },
   {
    "duration": 18,
    "start_time": "2025-03-04T17:01:47.445Z"
   },
   {
    "duration": 18,
    "start_time": "2025-03-04T17:01:47.465Z"
   },
   {
    "duration": 19,
    "start_time": "2025-03-04T17:01:47.485Z"
   },
   {
    "duration": 55,
    "start_time": "2025-03-04T17:01:47.507Z"
   },
   {
    "duration": 24066,
    "start_time": "2025-03-04T17:01:47.565Z"
   },
   {
    "duration": 11778,
    "start_time": "2025-03-04T17:02:11.633Z"
   },
   {
    "duration": 19164,
    "start_time": "2025-03-04T17:02:23.413Z"
   },
   {
    "duration": 1104,
    "start_time": "2025-03-04T17:05:26.844Z"
   },
   {
    "duration": 494,
    "start_time": "2025-03-04T17:05:27.951Z"
   },
   {
    "duration": 95,
    "start_time": "2025-03-04T17:05:28.449Z"
   },
   {
    "duration": 257,
    "start_time": "2025-03-04T17:05:28.546Z"
   },
   {
    "duration": 410,
    "start_time": "2025-03-04T17:05:28.806Z"
   },
   {
    "duration": 25,
    "start_time": "2025-03-04T17:05:29.218Z"
   },
   {
    "duration": 974,
    "start_time": "2025-03-04T17:05:29.245Z"
   },
   {
    "duration": 323,
    "start_time": "2025-03-04T17:05:30.221Z"
   },
   {
    "duration": 151,
    "start_time": "2025-03-04T17:05:30.545Z"
   },
   {
    "duration": 489,
    "start_time": "2025-03-04T17:05:30.698Z"
   },
   {
    "duration": 164,
    "start_time": "2025-03-04T17:05:31.188Z"
   },
   {
    "duration": 15,
    "start_time": "2025-03-04T17:05:31.354Z"
   },
   {
    "duration": 89,
    "start_time": "2025-03-04T17:05:31.371Z"
   },
   {
    "duration": 15,
    "start_time": "2025-03-04T17:05:31.465Z"
   },
   {
    "duration": 99,
    "start_time": "2025-03-04T17:05:31.482Z"
   },
   {
    "duration": 226,
    "start_time": "2025-03-04T17:05:31.583Z"
   },
   {
    "duration": 14,
    "start_time": "2025-03-04T17:05:31.811Z"
   },
   {
    "duration": 25,
    "start_time": "2025-03-04T17:05:31.827Z"
   },
   {
    "duration": 13,
    "start_time": "2025-03-04T17:05:31.853Z"
   },
   {
    "duration": 24,
    "start_time": "2025-03-04T17:05:31.868Z"
   },
   {
    "duration": 24675,
    "start_time": "2025-03-04T17:05:31.893Z"
   },
   {
    "duration": 11701,
    "start_time": "2025-03-04T17:05:56.569Z"
   },
   {
    "duration": 19403,
    "start_time": "2025-03-04T17:06:08.272Z"
   },
   {
    "duration": 218441,
    "start_time": "2025-03-04T17:06:27.678Z"
   },
   {
    "duration": 0,
    "start_time": "2025-03-04T17:10:06.120Z"
   },
   {
    "duration": 0,
    "start_time": "2025-03-04T17:10:06.121Z"
   },
   {
    "duration": 0,
    "start_time": "2025-03-04T17:10:06.122Z"
   },
   {
    "duration": 991,
    "start_time": "2025-03-04T19:36:25.398Z"
   },
   {
    "duration": 607,
    "start_time": "2025-03-04T19:36:26.391Z"
   },
   {
    "duration": 99,
    "start_time": "2025-03-04T19:36:27.000Z"
   },
   {
    "duration": 264,
    "start_time": "2025-03-04T19:36:27.102Z"
   },
   {
    "duration": 435,
    "start_time": "2025-03-04T19:36:27.368Z"
   },
   {
    "duration": 23,
    "start_time": "2025-03-04T19:36:27.805Z"
   },
   {
    "duration": 994,
    "start_time": "2025-03-04T19:36:27.843Z"
   },
   {
    "duration": 337,
    "start_time": "2025-03-04T19:36:28.842Z"
   },
   {
    "duration": 165,
    "start_time": "2025-03-04T19:36:29.181Z"
   },
   {
    "duration": 450,
    "start_time": "2025-03-04T19:36:29.349Z"
   },
   {
    "duration": 141,
    "start_time": "2025-03-04T19:36:29.803Z"
   },
   {
    "duration": 15,
    "start_time": "2025-03-04T19:36:29.947Z"
   },
   {
    "duration": 94,
    "start_time": "2025-03-04T19:36:29.964Z"
   },
   {
    "duration": 15,
    "start_time": "2025-03-04T19:36:30.060Z"
   },
   {
    "duration": 97,
    "start_time": "2025-03-04T19:36:30.076Z"
   },
   {
    "duration": 219,
    "start_time": "2025-03-04T19:36:30.175Z"
   },
   {
    "duration": 15,
    "start_time": "2025-03-04T19:36:30.396Z"
   },
   {
    "duration": 12,
    "start_time": "2025-03-04T19:36:30.413Z"
   },
   {
    "duration": 25,
    "start_time": "2025-03-04T19:36:30.426Z"
   },
   {
    "duration": 27,
    "start_time": "2025-03-04T19:36:30.452Z"
   },
   {
    "duration": 23866,
    "start_time": "2025-03-04T19:36:30.485Z"
   },
   {
    "duration": 11596,
    "start_time": "2025-03-04T19:36:54.354Z"
   },
   {
    "duration": 18921,
    "start_time": "2025-03-04T19:37:05.952Z"
   },
   {
    "duration": 998,
    "start_time": "2025-03-04T19:42:51.312Z"
   },
   {
    "duration": 506,
    "start_time": "2025-03-04T19:42:52.312Z"
   },
   {
    "duration": 98,
    "start_time": "2025-03-04T19:42:52.821Z"
   },
   {
    "duration": 239,
    "start_time": "2025-03-04T19:42:52.921Z"
   },
   {
    "duration": 374,
    "start_time": "2025-03-04T19:42:53.163Z"
   },
   {
    "duration": 22,
    "start_time": "2025-03-04T19:42:53.542Z"
   },
   {
    "duration": 992,
    "start_time": "2025-03-04T19:42:53.566Z"
   },
   {
    "duration": 302,
    "start_time": "2025-03-04T19:42:54.561Z"
   },
   {
    "duration": 122,
    "start_time": "2025-03-04T19:42:54.865Z"
   },
   {
    "duration": 457,
    "start_time": "2025-03-04T19:42:54.989Z"
   },
   {
    "duration": 154,
    "start_time": "2025-03-04T19:42:55.448Z"
   },
   {
    "duration": 15,
    "start_time": "2025-03-04T19:42:55.604Z"
   },
   {
    "duration": 93,
    "start_time": "2025-03-04T19:42:55.621Z"
   },
   {
    "duration": 14,
    "start_time": "2025-03-04T19:42:55.719Z"
   },
   {
    "duration": 82,
    "start_time": "2025-03-04T19:42:55.742Z"
   },
   {
    "duration": 226,
    "start_time": "2025-03-04T19:42:55.826Z"
   },
   {
    "duration": 14,
    "start_time": "2025-03-04T19:42:56.054Z"
   },
   {
    "duration": 13,
    "start_time": "2025-03-04T19:42:56.070Z"
   },
   {
    "duration": 15,
    "start_time": "2025-03-04T19:42:56.085Z"
   },
   {
    "duration": 70,
    "start_time": "2025-03-04T19:42:56.102Z"
   },
   {
    "duration": 1061,
    "start_time": "2025-03-04T19:43:16.268Z"
   },
   {
    "duration": 499,
    "start_time": "2025-03-04T19:43:17.332Z"
   },
   {
    "duration": 99,
    "start_time": "2025-03-04T19:43:17.832Z"
   },
   {
    "duration": 291,
    "start_time": "2025-03-04T19:43:17.935Z"
   },
   {
    "duration": 404,
    "start_time": "2025-03-04T19:43:18.229Z"
   },
   {
    "duration": 25,
    "start_time": "2025-03-04T19:43:18.634Z"
   },
   {
    "duration": 1000,
    "start_time": "2025-03-04T19:43:18.661Z"
   },
   {
    "duration": 306,
    "start_time": "2025-03-04T19:43:19.663Z"
   },
   {
    "duration": 129,
    "start_time": "2025-03-04T19:43:19.970Z"
   },
   {
    "duration": 504,
    "start_time": "2025-03-04T19:43:20.100Z"
   },
   {
    "duration": 223,
    "start_time": "2025-03-04T19:43:20.606Z"
   },
   {
    "duration": 26,
    "start_time": "2025-03-04T19:43:20.831Z"
   },
   {
    "duration": 99,
    "start_time": "2025-03-04T19:43:20.861Z"
   },
   {
    "duration": 14,
    "start_time": "2025-03-04T19:43:20.964Z"
   },
   {
    "duration": 112,
    "start_time": "2025-03-04T19:43:20.980Z"
   },
   {
    "duration": 234,
    "start_time": "2025-03-04T19:43:21.094Z"
   },
   {
    "duration": 24,
    "start_time": "2025-03-04T19:43:21.330Z"
   },
   {
    "duration": 14,
    "start_time": "2025-03-04T19:43:21.357Z"
   },
   {
    "duration": 14,
    "start_time": "2025-03-04T19:43:21.374Z"
   },
   {
    "duration": 68,
    "start_time": "2025-03-04T19:43:21.390Z"
   },
   {
    "duration": 6,
    "start_time": "2025-03-04T19:43:21.460Z"
   },
   {
    "duration": 4,
    "start_time": "2025-03-04T19:43:21.468Z"
   },
   {
    "duration": 68,
    "start_time": "2025-03-04T19:43:21.475Z"
   },
   {
    "duration": 1031,
    "start_time": "2025-03-04T19:43:39.361Z"
   },
   {
    "duration": 545,
    "start_time": "2025-03-04T19:43:40.394Z"
   },
   {
    "duration": 127,
    "start_time": "2025-03-04T19:43:40.940Z"
   },
   {
    "duration": 228,
    "start_time": "2025-03-04T19:43:41.070Z"
   },
   {
    "duration": 370,
    "start_time": "2025-03-04T19:43:41.300Z"
   },
   {
    "duration": 28,
    "start_time": "2025-03-04T19:43:41.672Z"
   },
   {
    "duration": 946,
    "start_time": "2025-03-04T19:43:41.704Z"
   },
   {
    "duration": 331,
    "start_time": "2025-03-04T19:43:42.652Z"
   },
   {
    "duration": 135,
    "start_time": "2025-03-04T19:43:42.985Z"
   },
   {
    "duration": 443,
    "start_time": "2025-03-04T19:43:43.123Z"
   },
   {
    "duration": 147,
    "start_time": "2025-03-04T19:43:43.568Z"
   },
   {
    "duration": 16,
    "start_time": "2025-03-04T19:43:43.717Z"
   },
   {
    "duration": 128,
    "start_time": "2025-03-04T19:43:43.742Z"
   },
   {
    "duration": 18,
    "start_time": "2025-03-04T19:43:43.872Z"
   },
   {
    "duration": 101,
    "start_time": "2025-03-04T19:43:43.892Z"
   },
   {
    "duration": 223,
    "start_time": "2025-03-04T19:43:43.995Z"
   },
   {
    "duration": 23,
    "start_time": "2025-03-04T19:43:44.220Z"
   },
   {
    "duration": 13,
    "start_time": "2025-03-04T19:43:44.245Z"
   },
   {
    "duration": 13,
    "start_time": "2025-03-04T19:43:44.259Z"
   },
   {
    "duration": 81,
    "start_time": "2025-03-04T19:43:44.274Z"
   },
   {
    "duration": 2,
    "start_time": "2025-03-04T19:43:44.357Z"
   },
   {
    "duration": 3,
    "start_time": "2025-03-04T19:43:44.361Z"
   },
   {
    "duration": 5,
    "start_time": "2025-03-04T19:43:44.365Z"
   },
   {
    "duration": 109005,
    "start_time": "2025-03-04T19:43:44.371Z"
   },
   {
    "duration": 2951,
    "start_time": "2025-03-04T19:45:33.378Z"
   },
   {
    "duration": 306,
    "start_time": "2025-03-04T19:45:36.331Z"
   },
   {
    "duration": 0,
    "start_time": "2025-03-04T19:45:36.639Z"
   },
   {
    "duration": 1027,
    "start_time": "2025-03-04T19:45:54.583Z"
   },
   {
    "duration": 542,
    "start_time": "2025-03-04T19:45:55.613Z"
   },
   {
    "duration": 98,
    "start_time": "2025-03-04T19:45:56.160Z"
   },
   {
    "duration": 237,
    "start_time": "2025-03-04T19:45:56.261Z"
   },
   {
    "duration": 469,
    "start_time": "2025-03-04T19:45:56.499Z"
   },
   {
    "duration": 20,
    "start_time": "2025-03-04T19:45:56.970Z"
   },
   {
    "duration": 986,
    "start_time": "2025-03-04T19:45:56.992Z"
   },
   {
    "duration": 329,
    "start_time": "2025-03-04T19:45:57.982Z"
   },
   {
    "duration": 124,
    "start_time": "2025-03-04T19:45:58.315Z"
   },
   {
    "duration": 451,
    "start_time": "2025-03-04T19:45:58.444Z"
   },
   {
    "duration": 155,
    "start_time": "2025-03-04T19:45:58.898Z"
   },
   {
    "duration": 18,
    "start_time": "2025-03-04T19:45:59.055Z"
   },
   {
    "duration": 93,
    "start_time": "2025-03-04T19:45:59.075Z"
   },
   {
    "duration": 15,
    "start_time": "2025-03-04T19:45:59.169Z"
   },
   {
    "duration": 111,
    "start_time": "2025-03-04T19:45:59.186Z"
   },
   {
    "duration": 253,
    "start_time": "2025-03-04T19:45:59.299Z"
   },
   {
    "duration": 16,
    "start_time": "2025-03-04T19:45:59.554Z"
   },
   {
    "duration": 12,
    "start_time": "2025-03-04T19:45:59.572Z"
   },
   {
    "duration": 13,
    "start_time": "2025-03-04T19:45:59.586Z"
   },
   {
    "duration": 57,
    "start_time": "2025-03-04T19:45:59.600Z"
   },
   {
    "duration": 3,
    "start_time": "2025-03-04T19:45:59.659Z"
   },
   {
    "duration": 4,
    "start_time": "2025-03-04T19:45:59.663Z"
   },
   {
    "duration": 4,
    "start_time": "2025-03-04T19:45:59.668Z"
   },
   {
    "duration": 1067,
    "start_time": "2025-03-04T19:50:58.318Z"
   },
   {
    "duration": 541,
    "start_time": "2025-03-04T19:50:59.387Z"
   },
   {
    "duration": 93,
    "start_time": "2025-03-04T19:50:59.931Z"
   },
   {
    "duration": 232,
    "start_time": "2025-03-04T19:51:00.026Z"
   },
   {
    "duration": 382,
    "start_time": "2025-03-04T19:51:00.260Z"
   },
   {
    "duration": 22,
    "start_time": "2025-03-04T19:51:00.646Z"
   },
   {
    "duration": 1015,
    "start_time": "2025-03-04T19:51:00.670Z"
   },
   {
    "duration": 339,
    "start_time": "2025-03-04T19:51:01.688Z"
   },
   {
    "duration": 124,
    "start_time": "2025-03-04T19:51:02.029Z"
   },
   {
    "duration": 460,
    "start_time": "2025-03-04T19:51:02.156Z"
   },
   {
    "duration": 149,
    "start_time": "2025-03-04T19:51:02.618Z"
   },
   {
    "duration": 18,
    "start_time": "2025-03-04T19:51:02.768Z"
   },
   {
    "duration": 118,
    "start_time": "2025-03-04T19:51:02.788Z"
   },
   {
    "duration": 14,
    "start_time": "2025-03-04T19:51:02.910Z"
   },
   {
    "duration": 120,
    "start_time": "2025-03-04T19:51:02.926Z"
   },
   {
    "duration": 227,
    "start_time": "2025-03-04T19:51:03.050Z"
   },
   {
    "duration": 16,
    "start_time": "2025-03-04T19:51:03.279Z"
   },
   {
    "duration": 14,
    "start_time": "2025-03-04T19:51:03.296Z"
   },
   {
    "duration": 34,
    "start_time": "2025-03-04T19:51:03.312Z"
   },
   {
    "duration": 33,
    "start_time": "2025-03-04T19:51:03.348Z"
   },
   {
    "duration": 4,
    "start_time": "2025-03-04T19:51:03.383Z"
   },
   {
    "duration": 55,
    "start_time": "2025-03-04T19:51:03.388Z"
   },
   {
    "duration": 3,
    "start_time": "2025-03-04T19:51:03.445Z"
   },
   {
    "duration": 71510,
    "start_time": "2025-03-04T19:51:03.449Z"
   },
   {
    "duration": 2916,
    "start_time": "2025-03-04T19:52:14.961Z"
   },
   {
    "duration": 308,
    "start_time": "2025-03-04T19:52:17.879Z"
   },
   {
    "duration": 0,
    "start_time": "2025-03-04T19:52:18.189Z"
   },
   {
    "duration": 1052,
    "start_time": "2025-03-04T19:52:35.543Z"
   },
   {
    "duration": 494,
    "start_time": "2025-03-04T19:52:36.597Z"
   },
   {
    "duration": 105,
    "start_time": "2025-03-04T19:52:37.094Z"
   },
   {
    "duration": 247,
    "start_time": "2025-03-04T19:52:37.202Z"
   },
   {
    "duration": 365,
    "start_time": "2025-03-04T19:52:37.450Z"
   },
   {
    "duration": 27,
    "start_time": "2025-03-04T19:52:37.817Z"
   },
   {
    "duration": 973,
    "start_time": "2025-03-04T19:52:37.846Z"
   },
   {
    "duration": 306,
    "start_time": "2025-03-04T19:52:38.821Z"
   },
   {
    "duration": 137,
    "start_time": "2025-03-04T19:52:39.129Z"
   },
   {
    "duration": 478,
    "start_time": "2025-03-04T19:52:39.270Z"
   },
   {
    "duration": 151,
    "start_time": "2025-03-04T19:52:39.750Z"
   },
   {
    "duration": 15,
    "start_time": "2025-03-04T19:52:39.903Z"
   },
   {
    "duration": 94,
    "start_time": "2025-03-04T19:52:39.920Z"
   },
   {
    "duration": 14,
    "start_time": "2025-03-04T19:52:40.016Z"
   },
   {
    "duration": 96,
    "start_time": "2025-03-04T19:52:40.032Z"
   },
   {
    "duration": 241,
    "start_time": "2025-03-04T19:52:40.130Z"
   },
   {
    "duration": 14,
    "start_time": "2025-03-04T19:52:40.373Z"
   },
   {
    "duration": 13,
    "start_time": "2025-03-04T19:52:40.389Z"
   },
   {
    "duration": 12,
    "start_time": "2025-03-04T19:52:40.404Z"
   },
   {
    "duration": 51,
    "start_time": "2025-03-04T19:52:40.418Z"
   },
   {
    "duration": 3,
    "start_time": "2025-03-04T19:52:40.471Z"
   },
   {
    "duration": 7,
    "start_time": "2025-03-04T19:52:40.476Z"
   },
   {
    "duration": 58,
    "start_time": "2025-03-04T19:52:40.488Z"
   },
   {
    "duration": 3,
    "start_time": "2025-03-04T19:52:40.548Z"
   },
   {
    "duration": 2902,
    "start_time": "2025-03-04T19:52:40.553Z"
   },
   {
    "duration": 304,
    "start_time": "2025-03-04T19:52:43.457Z"
   },
   {
    "duration": 0,
    "start_time": "2025-03-04T19:52:43.763Z"
   },
   {
    "duration": 981,
    "start_time": "2025-03-04T19:54:07.522Z"
   },
   {
    "duration": 497,
    "start_time": "2025-03-04T19:54:08.505Z"
   },
   {
    "duration": 97,
    "start_time": "2025-03-04T19:54:09.004Z"
   },
   {
    "duration": 221,
    "start_time": "2025-03-04T19:54:09.104Z"
   },
   {
    "duration": 377,
    "start_time": "2025-03-04T19:54:09.327Z"
   },
   {
    "duration": 18,
    "start_time": "2025-03-04T19:54:09.706Z"
   },
   {
    "duration": 991,
    "start_time": "2025-03-04T19:54:09.727Z"
   },
   {
    "duration": 323,
    "start_time": "2025-03-04T19:54:10.720Z"
   },
   {
    "duration": 126,
    "start_time": "2025-03-04T19:54:11.045Z"
   },
   {
    "duration": 472,
    "start_time": "2025-03-04T19:54:11.175Z"
   },
   {
    "duration": 150,
    "start_time": "2025-03-04T19:54:11.649Z"
   },
   {
    "duration": 16,
    "start_time": "2025-03-04T19:54:11.800Z"
   },
   {
    "duration": 124,
    "start_time": "2025-03-04T19:54:11.818Z"
   },
   {
    "duration": 15,
    "start_time": "2025-03-04T19:54:11.944Z"
   },
   {
    "duration": 98,
    "start_time": "2025-03-04T19:54:11.961Z"
   },
   {
    "duration": 230,
    "start_time": "2025-03-04T19:54:12.062Z"
   },
   {
    "duration": 16,
    "start_time": "2025-03-04T19:54:12.295Z"
   },
   {
    "duration": 14,
    "start_time": "2025-03-04T19:54:12.313Z"
   },
   {
    "duration": 14,
    "start_time": "2025-03-04T19:54:12.343Z"
   },
   {
    "duration": 28,
    "start_time": "2025-03-04T19:54:12.359Z"
   },
   {
    "duration": 54,
    "start_time": "2025-03-04T19:54:12.389Z"
   },
   {
    "duration": 3,
    "start_time": "2025-03-04T19:54:12.445Z"
   },
   {
    "duration": 4,
    "start_time": "2025-03-04T19:54:12.449Z"
   },
   {
    "duration": 75801,
    "start_time": "2025-03-04T19:54:12.455Z"
   },
   {
    "duration": 2951,
    "start_time": "2025-03-04T19:55:28.259Z"
   },
   {
    "duration": 341,
    "start_time": "2025-03-04T19:55:31.212Z"
   },
   {
    "duration": 0,
    "start_time": "2025-03-04T19:55:31.555Z"
   },
   {
    "duration": 1054,
    "start_time": "2025-03-04T19:56:49.752Z"
   },
   {
    "duration": 568,
    "start_time": "2025-03-04T19:56:50.808Z"
   },
   {
    "duration": 118,
    "start_time": "2025-03-04T19:56:51.378Z"
   },
   {
    "duration": 345,
    "start_time": "2025-03-04T19:56:51.498Z"
   },
   {
    "duration": 436,
    "start_time": "2025-03-04T19:56:51.847Z"
   },
   {
    "duration": 21,
    "start_time": "2025-03-04T19:56:52.285Z"
   },
   {
    "duration": 1120,
    "start_time": "2025-03-04T19:56:52.308Z"
   },
   {
    "duration": 349,
    "start_time": "2025-03-04T19:56:53.430Z"
   },
   {
    "duration": 135,
    "start_time": "2025-03-04T19:56:53.781Z"
   },
   {
    "duration": 442,
    "start_time": "2025-03-04T19:56:53.918Z"
   },
   {
    "duration": 175,
    "start_time": "2025-03-04T19:56:54.362Z"
   },
   {
    "duration": 22,
    "start_time": "2025-03-04T19:56:54.539Z"
   },
   {
    "duration": 129,
    "start_time": "2025-03-04T19:56:54.563Z"
   },
   {
    "duration": 17,
    "start_time": "2025-03-04T19:56:54.695Z"
   },
   {
    "duration": 102,
    "start_time": "2025-03-04T19:56:54.714Z"
   },
   {
    "duration": 235,
    "start_time": "2025-03-04T19:56:54.817Z"
   },
   {
    "duration": 16,
    "start_time": "2025-03-04T19:56:55.054Z"
   },
   {
    "duration": 15,
    "start_time": "2025-03-04T19:56:55.071Z"
   },
   {
    "duration": 12,
    "start_time": "2025-03-04T19:56:55.088Z"
   },
   {
    "duration": 50,
    "start_time": "2025-03-04T19:56:55.102Z"
   },
   {
    "duration": 6,
    "start_time": "2025-03-04T19:56:55.154Z"
   },
   {
    "duration": 4,
    "start_time": "2025-03-04T19:56:55.163Z"
   },
   {
    "duration": 9,
    "start_time": "2025-03-04T19:56:55.169Z"
   },
   {
    "duration": 1039,
    "start_time": "2025-03-04T19:58:29.084Z"
   },
   {
    "duration": 561,
    "start_time": "2025-03-04T19:58:30.125Z"
   },
   {
    "duration": 135,
    "start_time": "2025-03-04T19:58:30.692Z"
   },
   {
    "duration": 265,
    "start_time": "2025-03-04T19:58:30.829Z"
   },
   {
    "duration": 372,
    "start_time": "2025-03-04T19:58:31.096Z"
   },
   {
    "duration": 20,
    "start_time": "2025-03-04T19:58:31.470Z"
   },
   {
    "duration": 974,
    "start_time": "2025-03-04T19:58:31.493Z"
   },
   {
    "duration": 318,
    "start_time": "2025-03-04T19:58:32.469Z"
   },
   {
    "duration": 144,
    "start_time": "2025-03-04T19:58:32.790Z"
   },
   {
    "duration": 497,
    "start_time": "2025-03-04T19:58:32.936Z"
   },
   {
    "duration": 149,
    "start_time": "2025-03-04T19:58:33.435Z"
   },
   {
    "duration": 17,
    "start_time": "2025-03-04T19:58:33.586Z"
   },
   {
    "duration": 91,
    "start_time": "2025-03-04T19:58:33.605Z"
   },
   {
    "duration": 15,
    "start_time": "2025-03-04T19:58:33.698Z"
   },
   {
    "duration": 100,
    "start_time": "2025-03-04T19:58:33.715Z"
   },
   {
    "duration": 249,
    "start_time": "2025-03-04T19:58:33.817Z"
   },
   {
    "duration": 16,
    "start_time": "2025-03-04T19:58:34.068Z"
   },
   {
    "duration": 12,
    "start_time": "2025-03-04T19:58:34.086Z"
   },
   {
    "duration": 12,
    "start_time": "2025-03-04T19:58:34.100Z"
   },
   {
    "duration": 57,
    "start_time": "2025-03-04T19:58:34.113Z"
   },
   {
    "duration": 3,
    "start_time": "2025-03-04T19:58:34.172Z"
   },
   {
    "duration": 3,
    "start_time": "2025-03-04T19:58:34.176Z"
   },
   {
    "duration": 63,
    "start_time": "2025-03-04T19:58:34.180Z"
   },
   {
    "duration": 1005,
    "start_time": "2025-03-04T19:59:30.619Z"
   },
   {
    "duration": 528,
    "start_time": "2025-03-04T19:59:31.626Z"
   },
   {
    "duration": 98,
    "start_time": "2025-03-04T19:59:32.157Z"
   },
   {
    "duration": 275,
    "start_time": "2025-03-04T19:59:32.257Z"
   },
   {
    "duration": 386,
    "start_time": "2025-03-04T19:59:32.536Z"
   },
   {
    "duration": 31,
    "start_time": "2025-03-04T19:59:32.924Z"
   },
   {
    "duration": 951,
    "start_time": "2025-03-04T19:59:32.957Z"
   },
   {
    "duration": 330,
    "start_time": "2025-03-04T19:59:33.910Z"
   },
   {
    "duration": 134,
    "start_time": "2025-03-04T19:59:34.242Z"
   },
   {
    "duration": 436,
    "start_time": "2025-03-04T19:59:34.378Z"
   },
   {
    "duration": 150,
    "start_time": "2025-03-04T19:59:34.815Z"
   },
   {
    "duration": 15,
    "start_time": "2025-03-04T19:59:34.969Z"
   },
   {
    "duration": 117,
    "start_time": "2025-03-04T19:59:34.986Z"
   },
   {
    "duration": 17,
    "start_time": "2025-03-04T19:59:35.106Z"
   },
   {
    "duration": 106,
    "start_time": "2025-03-04T19:59:35.126Z"
   },
   {
    "duration": 228,
    "start_time": "2025-03-04T19:59:35.235Z"
   },
   {
    "duration": 13,
    "start_time": "2025-03-04T19:59:35.467Z"
   },
   {
    "duration": 14,
    "start_time": "2025-03-04T19:59:35.482Z"
   },
   {
    "duration": 13,
    "start_time": "2025-03-04T19:59:35.497Z"
   },
   {
    "duration": 48,
    "start_time": "2025-03-04T19:59:35.511Z"
   },
   {
    "duration": 3,
    "start_time": "2025-03-04T19:59:35.562Z"
   },
   {
    "duration": 3,
    "start_time": "2025-03-04T19:59:35.567Z"
   },
   {
    "duration": 3,
    "start_time": "2025-03-04T19:59:35.572Z"
   },
   {
    "duration": 78866,
    "start_time": "2025-03-04T19:59:35.577Z"
   },
   {
    "duration": 2909,
    "start_time": "2025-03-04T20:00:54.446Z"
   },
   {
    "duration": 307,
    "start_time": "2025-03-04T20:00:57.357Z"
   },
   {
    "duration": 0,
    "start_time": "2025-03-04T20:00:57.666Z"
   },
   {
    "duration": 1078,
    "start_time": "2025-03-04T20:02:02.140Z"
   },
   {
    "duration": 487,
    "start_time": "2025-03-04T20:02:03.220Z"
   },
   {
    "duration": 97,
    "start_time": "2025-03-04T20:02:03.709Z"
   },
   {
    "duration": 235,
    "start_time": "2025-03-04T20:02:03.808Z"
   },
   {
    "duration": 379,
    "start_time": "2025-03-04T20:02:04.047Z"
   },
   {
    "duration": 28,
    "start_time": "2025-03-04T20:02:04.428Z"
   },
   {
    "duration": 1018,
    "start_time": "2025-03-04T20:02:04.457Z"
   },
   {
    "duration": 310,
    "start_time": "2025-03-04T20:02:05.477Z"
   },
   {
    "duration": 128,
    "start_time": "2025-03-04T20:02:05.789Z"
   },
   {
    "duration": 452,
    "start_time": "2025-03-04T20:02:05.919Z"
   },
   {
    "duration": 177,
    "start_time": "2025-03-04T20:02:06.373Z"
   },
   {
    "duration": 15,
    "start_time": "2025-03-04T20:02:06.552Z"
   },
   {
    "duration": 109,
    "start_time": "2025-03-04T20:02:06.569Z"
   },
   {
    "duration": 15,
    "start_time": "2025-03-04T20:02:06.681Z"
   },
   {
    "duration": 96,
    "start_time": "2025-03-04T20:02:06.697Z"
   },
   {
    "duration": 228,
    "start_time": "2025-03-04T20:02:06.795Z"
   },
   {
    "duration": 19,
    "start_time": "2025-03-04T20:02:07.024Z"
   },
   {
    "duration": 12,
    "start_time": "2025-03-04T20:02:07.045Z"
   },
   {
    "duration": 14,
    "start_time": "2025-03-04T20:02:07.059Z"
   },
   {
    "duration": 28,
    "start_time": "2025-03-04T20:02:07.074Z"
   },
   {
    "duration": 23636,
    "start_time": "2025-03-04T20:02:07.150Z"
   },
   {
    "duration": 11543,
    "start_time": "2025-03-04T20:02:30.788Z"
   },
   {
    "duration": 19045,
    "start_time": "2025-03-04T20:02:42.333Z"
   },
   {
    "duration": 51793,
    "start_time": "2025-03-04T20:03:01.381Z"
   },
   {
    "duration": 2940,
    "start_time": "2025-03-04T20:03:53.177Z"
   },
   {
    "duration": 11,
    "start_time": "2025-03-04T20:03:56.119Z"
   },
   {
    "duration": 4,
    "start_time": "2025-03-04T20:03:56.132Z"
   },
   {
    "duration": 350,
    "start_time": "2025-03-04T20:12:15.221Z"
   },
   {
    "duration": 1230,
    "start_time": "2025-03-04T20:30:36.981Z"
   },
   {
    "duration": 710,
    "start_time": "2025-03-04T20:30:38.213Z"
   },
   {
    "duration": 139,
    "start_time": "2025-03-04T20:30:38.925Z"
   },
   {
    "duration": 344,
    "start_time": "2025-03-04T20:30:39.066Z"
   },
   {
    "duration": 530,
    "start_time": "2025-03-04T20:30:39.413Z"
   },
   {
    "duration": 22,
    "start_time": "2025-03-04T20:30:39.944Z"
   },
   {
    "duration": 1235,
    "start_time": "2025-03-04T20:30:39.968Z"
   },
   {
    "duration": 392,
    "start_time": "2025-03-04T20:30:41.205Z"
   },
   {
    "duration": 173,
    "start_time": "2025-03-04T20:30:41.599Z"
   },
   {
    "duration": 681,
    "start_time": "2025-03-04T20:30:41.777Z"
   },
   {
    "duration": 231,
    "start_time": "2025-03-04T20:30:42.463Z"
   },
   {
    "duration": 17,
    "start_time": "2025-03-04T20:30:42.696Z"
   },
   {
    "duration": 139,
    "start_time": "2025-03-04T20:30:42.714Z"
   },
   {
    "duration": 22,
    "start_time": "2025-03-04T20:30:42.861Z"
   },
   {
    "duration": 115,
    "start_time": "2025-03-04T20:30:42.888Z"
   },
   {
    "duration": 241,
    "start_time": "2025-03-04T20:30:43.006Z"
   },
   {
    "duration": 19,
    "start_time": "2025-03-04T20:30:43.248Z"
   },
   {
    "duration": 14,
    "start_time": "2025-03-04T20:30:43.269Z"
   },
   {
    "duration": 14,
    "start_time": "2025-03-04T20:30:43.284Z"
   },
   {
    "duration": 62,
    "start_time": "2025-03-04T20:30:43.300Z"
   },
   {
    "duration": 26275,
    "start_time": "2025-03-04T20:30:43.364Z"
   },
   {
    "duration": 14037,
    "start_time": "2025-03-04T20:31:09.643Z"
   },
   {
    "duration": 22076,
    "start_time": "2025-03-04T20:31:23.682Z"
   },
   {
    "duration": 104400,
    "start_time": "2025-03-04T20:31:45.760Z"
   },
   {
    "duration": 3324,
    "start_time": "2025-03-04T20:33:30.161Z"
   },
   {
    "duration": 11,
    "start_time": "2025-03-04T20:33:33.487Z"
   },
   {
    "duration": 121312,
    "start_time": "2025-03-04T21:05:45.746Z"
   },
   {
    "duration": 110506,
    "start_time": "2025-03-04T21:09:05.106Z"
   },
   {
    "duration": 2737,
    "start_time": "2025-03-05T14:42:44.240Z"
   },
   {
    "duration": 570,
    "start_time": "2025-03-05T14:42:46.979Z"
   },
   {
    "duration": 101,
    "start_time": "2025-03-05T14:42:47.551Z"
   },
   {
    "duration": 228,
    "start_time": "2025-03-05T14:42:47.654Z"
   },
   {
    "duration": 354,
    "start_time": "2025-03-05T14:42:47.884Z"
   },
   {
    "duration": 20,
    "start_time": "2025-03-05T14:42:48.239Z"
   },
   {
    "duration": 980,
    "start_time": "2025-03-05T14:42:48.261Z"
   },
   {
    "duration": 299,
    "start_time": "2025-03-05T14:42:49.242Z"
   },
   {
    "duration": 115,
    "start_time": "2025-03-05T14:42:49.542Z"
   },
   {
    "duration": 439,
    "start_time": "2025-03-05T14:42:49.660Z"
   },
   {
    "duration": 819,
    "start_time": "2025-03-05T14:42:50.100Z"
   },
   {
    "duration": 0,
    "start_time": "2025-03-05T14:42:50.920Z"
   },
   {
    "duration": 0,
    "start_time": "2025-03-05T14:42:50.922Z"
   },
   {
    "duration": 0,
    "start_time": "2025-03-05T14:42:50.923Z"
   },
   {
    "duration": 0,
    "start_time": "2025-03-05T14:42:50.924Z"
   },
   {
    "duration": 0,
    "start_time": "2025-03-05T14:42:50.925Z"
   },
   {
    "duration": 0,
    "start_time": "2025-03-05T14:42:50.926Z"
   },
   {
    "duration": 0,
    "start_time": "2025-03-05T14:42:50.927Z"
   },
   {
    "duration": 0,
    "start_time": "2025-03-05T14:42:50.928Z"
   },
   {
    "duration": 0,
    "start_time": "2025-03-05T14:42:50.930Z"
   },
   {
    "duration": 0,
    "start_time": "2025-03-05T14:42:50.931Z"
   },
   {
    "duration": 0,
    "start_time": "2025-03-05T14:42:50.932Z"
   },
   {
    "duration": 0,
    "start_time": "2025-03-05T14:42:50.933Z"
   },
   {
    "duration": 0,
    "start_time": "2025-03-05T14:42:50.934Z"
   },
   {
    "duration": 0,
    "start_time": "2025-03-05T14:42:50.935Z"
   },
   {
    "duration": 0,
    "start_time": "2025-03-05T14:42:50.936Z"
   },
   {
    "duration": 0,
    "start_time": "2025-03-05T14:42:50.937Z"
   },
   {
    "duration": 632,
    "start_time": "2025-03-05T14:44:52.700Z"
   },
   {
    "duration": 941,
    "start_time": "2025-03-05T14:47:19.952Z"
   },
   {
    "duration": 713,
    "start_time": "2025-03-05T14:47:28.608Z"
   },
   {
    "duration": 198,
    "start_time": "2025-03-05T14:47:31.544Z"
   },
   {
    "duration": 501,
    "start_time": "2025-03-05T14:49:12.967Z"
   },
   {
    "duration": 84,
    "start_time": "2025-03-05T14:49:48.642Z"
   },
   {
    "duration": 13,
    "start_time": "2025-03-05T14:49:52.462Z"
   },
   {
    "duration": 85,
    "start_time": "2025-03-05T14:50:02.824Z"
   },
   {
    "duration": 42,
    "start_time": "2025-03-05T14:50:09.484Z"
   },
   {
    "duration": 46,
    "start_time": "2025-03-05T14:50:15.396Z"
   },
   {
    "duration": 1016,
    "start_time": "2025-03-05T14:53:33.805Z"
   },
   {
    "duration": 506,
    "start_time": "2025-03-05T14:53:34.823Z"
   },
   {
    "duration": 96,
    "start_time": "2025-03-05T14:53:35.331Z"
   },
   {
    "duration": 225,
    "start_time": "2025-03-05T14:53:35.429Z"
   },
   {
    "duration": 353,
    "start_time": "2025-03-05T14:53:35.658Z"
   },
   {
    "duration": 20,
    "start_time": "2025-03-05T14:53:36.013Z"
   },
   {
    "duration": 984,
    "start_time": "2025-03-05T14:53:36.034Z"
   },
   {
    "duration": 313,
    "start_time": "2025-03-05T14:53:37.019Z"
   },
   {
    "duration": 116,
    "start_time": "2025-03-05T14:53:37.335Z"
   },
   {
    "duration": 429,
    "start_time": "2025-03-05T14:53:37.452Z"
   },
   {
    "duration": 915,
    "start_time": "2025-03-05T14:53:37.882Z"
   },
   {
    "duration": 3,
    "start_time": "2025-03-05T14:53:38.798Z"
   },
   {
    "duration": 3,
    "start_time": "2025-03-05T14:53:38.812Z"
   },
   {
    "duration": 2,
    "start_time": "2025-03-05T14:53:38.818Z"
   },
   {
    "duration": 4,
    "start_time": "2025-03-05T14:53:38.822Z"
   },
   {
    "duration": 730,
    "start_time": "2025-03-05T14:53:38.827Z"
   },
   {
    "duration": 83,
    "start_time": "2025-03-05T14:53:39.559Z"
   },
   {
    "duration": 93,
    "start_time": "2025-03-05T14:53:39.645Z"
   },
   {
    "duration": 41,
    "start_time": "2025-03-05T14:53:39.740Z"
   },
   {
    "duration": 58,
    "start_time": "2025-03-05T14:53:39.783Z"
   },
   {
    "duration": 4269,
    "start_time": "2025-03-05T14:53:39.842Z"
   },
   {
    "duration": 23441,
    "start_time": "2025-03-05T14:53:44.113Z"
   },
   {
    "duration": 18749,
    "start_time": "2025-03-05T14:54:07.555Z"
   },
   {
    "duration": 927,
    "start_time": "2025-03-05T14:54:26.306Z"
   },
   {
    "duration": 3,
    "start_time": "2025-03-05T14:54:27.311Z"
   },
   {
    "duration": 110635,
    "start_time": "2025-03-05T14:54:27.316Z"
   },
   {
    "duration": 0,
    "start_time": "2025-03-05T14:56:17.953Z"
   },
   {
    "duration": 0,
    "start_time": "2025-03-05T14:56:17.954Z"
   },
   {
    "duration": 108656,
    "start_time": "2025-03-05T14:58:31.872Z"
   },
   {
    "duration": 8123,
    "start_time": "2025-03-05T15:01:41.117Z"
   },
   {
    "duration": 7897,
    "start_time": "2025-03-05T15:03:08.515Z"
   },
   {
    "duration": 9,
    "start_time": "2025-03-05T15:03:25.569Z"
   },
   {
    "duration": 7919,
    "start_time": "2025-03-05T15:14:58.344Z"
   }
  ],
  "kernelspec": {
   "display_name": "Python 3 (ipykernel)",
   "language": "python",
   "name": "python3"
  },
  "language_info": {
   "codemirror_mode": {
    "name": "ipython",
    "version": 3
   },
   "file_extension": ".py",
   "mimetype": "text/x-python",
   "name": "python",
   "nbconvert_exporter": "python",
   "pygments_lexer": "ipython3",
   "version": "3.9.19"
  },
  "toc": {
   "base_numbering": 1,
   "nav_menu": {},
   "number_sections": true,
   "sideBar": true,
   "skip_h1_title": true,
   "title_cell": "Table of Contents",
   "title_sidebar": "Contents",
   "toc_cell": false,
   "toc_position": {},
   "toc_section_display": true,
   "toc_window_display": false
  }
 },
 "nbformat": 4,
 "nbformat_minor": 2
}
